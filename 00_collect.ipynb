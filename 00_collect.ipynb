{
 "cells": [
  {
   "cell_type": "markdown",
   "metadata": {},
   "source": [
    "# Boilerplate"
   ]
  },
  {
   "cell_type": "code",
   "execution_count": 1,
   "metadata": {},
   "outputs": [
    {
     "name": "stdout",
     "output_type": "stream",
     "text": [
      "/mnt/home/pleung/projects/bistable_bundle/r3/hinges\n",
      "dig103\n"
     ]
    }
   ],
   "source": [
    "# python internal \n",
    "import collections\n",
    "import copy\n",
    "import gc\n",
    "from glob import glob\n",
    "import h5py\n",
    "import itertools\n",
    "import os\n",
    "print(os.getcwd())\n",
    "import random\n",
    "import re\n",
    "import socket\n",
    "print(socket.gethostname())\n",
    "import shutil\n",
    "import subprocess\n",
    "import sys\n",
    "# conda/pip\n",
    "import dask\n",
    "import graphviz\n",
    "import matplotlib.pyplot as plt\n",
    "import pandas as pd\n",
    "import numpy as np\n",
    "import scipy\n",
    "import seaborn as sns\n",
    "import tensorflow as tf\n",
    "from tqdm import tqdm\n",
    "# special packages on the DIGS\n",
    "import py3Dmol\n",
    "import pymol\n",
    "import pyrosetta\n",
    "# notebook magic\n",
    "%matplotlib inline\n",
    "%load_ext autoreload\n",
    "%autoreload 2"
   ]
  },
  {
   "cell_type": "markdown",
   "metadata": {},
   "source": [
    "# Collect various scaffolds\n",
    "Rename as neccessary and put into silent with parent scaffold class\n",
    "1. dhrsgoodnocys: TJ's \"good\" DHRs without cysteine\n",
    "2. dhrs_no_cys: TJ's DHRs I redesigned to remove cysteine\n",
    "3. thrs: TH's ultra straight 3 helix DHRs\n",
    "4. jhrs: junior halfroids?\n",
    "5. sewed: random bundles?\n",
    "6. dhrs_tim: TH's ultra straight 2 helix DHRs?"
   ]
  },
  {
   "cell_type": "markdown",
   "metadata": {},
   "source": [
    "# dhrsgoodnocys"
   ]
  },
  {
   "cell_type": "code",
   "execution_count": 5,
   "metadata": {},
   "outputs": [
    {
     "name": "stdout",
     "output_type": "stream",
     "text": [
      "core.conformation.Conformation: {0} [ WARNING ] missing heavyatom:  OXT on residue ASN:CtermProteinFull 168\n"
     ]
    },
    {
     "data": {
      "text/plain": [
       "'\\n    in_path: /mnt/home/pleung/projects/bistable_bundle/r3/hinges/00_inputs/dhrsgoodnocys\\n    out_path: /mnt/home/pleung/projects/bistable_bundle/r3/hinges/00_silents\\n    packed 16 poses'"
      ]
     },
     "execution_count": 5,
     "metadata": {},
     "output_type": "execute_result"
    }
   ],
   "source": [
    "def silent_no_cys(in_path:str, out_path:str, silent_name:str) -> str:\n",
    "    \"\"\"assumes pdb input\"\"\"\n",
    "    from glob import glob\n",
    "    import os\n",
    "    import pyrosetta.distributed.io as io\n",
    "    pposes = []\n",
    "    count = 0\n",
    "    for pdb in glob(os.path.join(in_path, \"*.pdb\")):\n",
    "        pose = io.to_pose(io.pose_from_file(pdb))\n",
    "        pose.pdb_info().name(pdb.split(\".pdb\")[0].split(\"/\")[-1])\n",
    "        if \"C\" not in pose.sequence():\n",
    "            pposes.append(io.to_packed(pose))\n",
    "            count += 1\n",
    "        else:\n",
    "            pass\n",
    "    os.makedirs(out_path, exist_ok=True)\n",
    "    io.to_silent(pposes, os.path.join(out_path, silent_name))\n",
    "    msg = \"\"\"\n",
    "    in_path: {in_path}\n",
    "    out_path: {out_path}\n",
    "    packed {count} poses\"\"\".format(in_path=in_path, out_path=out_path, count=count)\n",
    "    return msg\n",
    "\n",
    "in_path = os.path.join(os.getcwd(), \"00_inputs/dhrsgoodnocys\")\n",
    "out_path = os.path.join(os.getcwd(), \"00_silents\")\n",
    "silent_name = \"dhrsgoodnocys.silent\"\n",
    "\n",
    "silent_no_cys(in_path, out_path, silent_name)"
   ]
  },
  {
   "cell_type": "markdown",
   "metadata": {},
   "source": [
    "# dhrs_nocys"
   ]
  },
  {
   "cell_type": "code",
   "execution_count": 8,
   "metadata": {},
   "outputs": [
    {
     "data": {
      "text/plain": [
       "'\\n    in_path: /mnt/home/pleung/projects/bistable_bundle/r3/hinges/00_inputs/dhrs_nocys\\n    out_path: /mnt/home/pleung/projects/bistable_bundle/r3/hinges/00_silents\\n    packed 8 poses'"
      ]
     },
     "execution_count": 8,
     "metadata": {},
     "output_type": "execute_result"
    }
   ],
   "source": [
    "in_path = os.path.join(os.getcwd(), \"00_inputs/dhrs_nocys\")\n",
    "out_path = os.path.join(os.getcwd(), \"00_silents\")\n",
    "silent_name = \"dhrs_nocys.silent\"\n",
    "\n",
    "for file in glob(os.path.join(in_path, \"*.pdb\")):\n",
    "    os.rename(file, file.replace(\"0001_0001\", \"nocys\", 1))\n",
    "\n",
    "silent_no_cys(in_path, out_path, silent_name)"
   ]
  },
  {
   "cell_type": "markdown",
   "metadata": {},
   "source": [
    "# thrs"
   ]
  },
  {
   "cell_type": "code",
   "execution_count": 11,
   "metadata": {},
   "outputs": [
    {
     "name": "stdout",
     "output_type": "stream",
     "text": [
      "core.io.pose_from_sfr.PoseFromSFRBuilder: {0} [ WARNING ] discarding 1 atoms at position 29 in file /mnt/home/pleung/projects/bistable_bundle/r3/hinges/00_inputs/thrs/THR9.pdb. Best match rsd_type:  LEU\n",
      "core.io.pose_from_sfr.PoseFromSFRBuilder: {0} [ WARNING ] discarding 1 atoms at position 108 in file /mnt/home/pleung/projects/bistable_bundle/r3/hinges/00_inputs/thrs/THR9.pdb. Best match rsd_type:  LEU\n",
      "core.io.pose_from_sfr.PoseFromSFRBuilder: {0} [ WARNING ] discarding 1 atoms at position 187 in file /mnt/home/pleung/projects/bistable_bundle/r3/hinges/00_inputs/thrs/THR9.pdb. Best match rsd_type:  LEU\n",
      "core.io.pose_from_sfr.PoseFromSFRBuilder: {0} [ WARNING ] discarding 1 atoms at position 266 in file /mnt/home/pleung/projects/bistable_bundle/r3/hinges/00_inputs/thrs/THR9.pdb. Best match rsd_type:  LEU\n",
      "core.io.pose_from_sfr.PoseFromSFRBuilder: {0} [ WARNING ] discarding 1 atoms at position 345 in file /mnt/home/pleung/projects/bistable_bundle/r3/hinges/00_inputs/thrs/THR9.pdb. Best match rsd_type:  LEU\n",
      "core.io.pose_from_sfr.PoseFromSFRBuilder: {0} [ WARNING ] can't find pose atom for file-residue 29 atom 3HB  (trying to store temperature in PDBInfo)\n",
      "core.io.pose_from_sfr.PoseFromSFRBuilder: {0} [ WARNING ] can't find pose atom for file-residue 108 atom 3HB  (trying to store temperature in PDBInfo)\n",
      "core.io.pose_from_sfr.PoseFromSFRBuilder: {0} [ WARNING ] can't find pose atom for file-residue 187 atom 3HB  (trying to store temperature in PDBInfo)\n",
      "core.io.pose_from_sfr.PoseFromSFRBuilder: {0} [ WARNING ] can't find pose atom for file-residue 266 atom 3HB  (trying to store temperature in PDBInfo)\n",
      "core.io.pose_from_sfr.PoseFromSFRBuilder: {0} [ WARNING ] can't find pose atom for file-residue 345 atom 3HB  (trying to store temperature in PDBInfo)\n",
      "core.io.pose_from_sfr.PoseFromSFRBuilder: {0} [ WARNING ] discarding 2 atoms at position 443 in file /mnt/home/pleung/projects/bistable_bundle/r3/hinges/00_inputs/thrs/THR13.pdb. Best match rsd_type:  GLU\n",
      "core.io.pose_from_sfr.PoseFromSFRBuilder: {0} [ WARNING ] can't find pose atom for file-residue 443 atom 3HB  (trying to store temperature in PDBInfo)\n",
      "core.io.pose_from_sfr.PoseFromSFRBuilder: {0} [ WARNING ] can't find pose atom for file-residue 443 atom 3HG  (trying to store temperature in PDBInfo)\n"
     ]
    },
    {
     "data": {
      "text/plain": [
       "'\\n    in_path: /mnt/home/pleung/projects/bistable_bundle/r3/hinges/00_inputs/thrs\\n    out_path: /mnt/home/pleung/projects/bistable_bundle/r3/hinges/00_silents\\n    packed 10 poses'"
      ]
     },
     "execution_count": 11,
     "metadata": {},
     "output_type": "execute_result"
    }
   ],
   "source": [
    "in_path = os.path.join(os.getcwd(), \"00_inputs/thrs\")\n",
    "out_path = os.path.join(os.getcwd(), \"00_silents\")\n",
    "silent_name = \"thrs.silent\"\n",
    "\n",
    "for file in glob(os.path.join(in_path, \"*.pdb\")):\n",
    "    os.rename(file, file.replace(\"thrs/\", \"thrs/THR\", 1))\n",
    "\n",
    "silent_no_cys(in_path, out_path, silent_name)"
   ]
  },
  {
   "cell_type": "code",
   "execution_count": null,
   "metadata": {},
   "outputs": [],
   "source": []
  }
 ],
 "metadata": {
  "kernelspec": {
   "display_name": "cereal",
   "language": "python",
   "name": "cereal"
  },
  "language_info": {
   "codemirror_mode": {
    "name": "ipython",
    "version": 3
   },
   "file_extension": ".py",
   "mimetype": "text/x-python",
   "name": "python",
   "nbconvert_exporter": "python",
   "pygments_lexer": "ipython3",
   "version": "3.7.7"
  }
 },
 "nbformat": 4,
 "nbformat_minor": 4
}
