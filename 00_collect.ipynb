{
 "cells": [
  {
   "cell_type": "markdown",
   "metadata": {},
   "source": [
    "# Prep input scaffolds for design"
   ]
  },
  {
   "cell_type": "markdown",
   "metadata": {},
   "source": [
    "### Boilerplate"
   ]
  },
  {
   "cell_type": "code",
   "execution_count": 1,
   "metadata": {},
   "outputs": [
    {
     "name": "stdout",
     "output_type": "stream",
     "text": [
      "/mnt/home/pleung/projects/bistable_bundle/r4/hinges\n",
      "dig28\n"
     ]
    }
   ],
   "source": [
    "%load_ext lab_black\n",
    "# python internal\n",
    "import collections\n",
    "import copy\n",
    "import gc\n",
    "from glob import glob\n",
    "import h5py\n",
    "import itertools\n",
    "import os\n",
    "import random\n",
    "import re\n",
    "import socket\n",
    "import shutil\n",
    "import subprocess\n",
    "import sys\n",
    "\n",
    "# conda/pip\n",
    "import dask\n",
    "import graphviz\n",
    "import matplotlib.pyplot as plt\n",
    "import pandas as pd\n",
    "import numpy as np\n",
    "import scipy\n",
    "import seaborn as sns\n",
    "from tqdm import tqdm\n",
    "\n",
    "# special packages on the DIGS\n",
    "import py3Dmol\n",
    "import pymol\n",
    "import pyrosetta\n",
    "\n",
    "# notebook magic\n",
    "%matplotlib inline\n",
    "%load_ext autoreload\n",
    "%autoreload 2\n",
    "\n",
    "print(os.getcwd())\n",
    "print(socket.gethostname())"
   ]
  },
  {
   "cell_type": "markdown",
   "metadata": {},
   "source": [
    "### Collect various scaffolds\n",
    "Rename as neccessary and put into silent with parent scaffold class\n",
    "1. dhrsgoodnocys: TJ's \"good\" DHRs without cysteine\n",
    "2. dhrs_no_cys: TJ's DHRs I redesigned to remove cysteine\n",
    "3. thrs: TH's ultra straight 3 helix DHRs\n",
    "4. dhrs_tim: TH's ultra straight 2 helix DHRs\n",
    "5. harley: xtal relaxed dhrs of all of the above, as well as kejia and hua's peptide binders"
   ]
  },
  {
   "cell_type": "markdown",
   "metadata": {},
   "source": [
    "### dhrsgoodnocys"
   ]
  },
  {
   "cell_type": "code",
   "execution_count": 2,
   "metadata": {},
   "outputs": [
    {
     "name": "stdout",
     "output_type": "stream",
     "text": [
      "core.conformation.Conformation: {0} [ WARNING ] missing heavyatom:  OXT on residue ASN:CtermProteinFull 168\n"
     ]
    },
    {
     "data": {
      "text/plain": [
       "'\\n    in_path: /mnt/home/pleung/projects/bistable_bundle/r4/hinges/00_inputs/dhrsgoodnocys\\n    out_path: /mnt/home/pleung/projects/bistable_bundle/r4/hinges/00_silents\\n    packed 17 poses'"
      ]
     },
     "execution_count": 2,
     "metadata": {},
     "output_type": "execute_result"
    }
   ],
   "source": [
    "def silent_no_cys(in_path: str, out_path: str, silent_name: str) -> str:\n",
    "    \"\"\"assumes pdb input\"\"\"\n",
    "    from glob import glob\n",
    "    import os\n",
    "    import pyrosetta.distributed.io as io\n",
    "\n",
    "    pposes = []\n",
    "    count = 0\n",
    "    for pdb in glob(os.path.join(in_path, \"*.pdb\")):\n",
    "        pose = io.to_pose(io.pose_from_file(pdb))\n",
    "        pose.pdb_info().name(pdb.split(\".pdb\")[0].split(\"/\")[-1])\n",
    "        if \"C\" not in pose.sequence():\n",
    "            pposes.append(io.to_packed(pose))\n",
    "            count += 1\n",
    "        else:\n",
    "            pass\n",
    "    os.makedirs(out_path, exist_ok=True)\n",
    "    io.to_silent(pposes, os.path.join(out_path, silent_name))\n",
    "    msg = \"\"\"\n",
    "    in_path: {in_path}\n",
    "    out_path: {out_path}\n",
    "    packed {count} poses\"\"\".format(\n",
    "        in_path=in_path, out_path=out_path, count=count\n",
    "    )\n",
    "    return msg\n",
    "\n",
    "\n",
    "in_path = os.path.join(os.getcwd(), \"00_inputs/dhrsgoodnocys\")\n",
    "out_path = os.path.join(os.getcwd(), \"00_silents\")\n",
    "silent_name = \"dhrsgoodnocys.silent\"\n",
    "\n",
    "silent_no_cys(in_path, out_path, silent_name)"
   ]
  },
  {
   "cell_type": "markdown",
   "metadata": {},
   "source": [
    "### dhrs_nocys"
   ]
  },
  {
   "cell_type": "code",
   "execution_count": 3,
   "metadata": {},
   "outputs": [
    {
     "data": {
      "text/plain": [
       "'\\n    in_path: /mnt/home/pleung/projects/bistable_bundle/r4/hinges/00_inputs/dhrs_nocys\\n    out_path: /mnt/home/pleung/projects/bistable_bundle/r4/hinges/00_silents\\n    packed 8 poses'"
      ]
     },
     "execution_count": 3,
     "metadata": {},
     "output_type": "execute_result"
    }
   ],
   "source": [
    "in_path = os.path.join(os.getcwd(), \"00_inputs/dhrs_nocys\")\n",
    "out_path = os.path.join(os.getcwd(), \"00_silents\")\n",
    "silent_name = \"dhrs_nocys.silent\"\n",
    "\n",
    "for file in glob(os.path.join(in_path, \"*.pdb\")):\n",
    "    os.rename(file, file.replace(\"0001_0001\", \"nocys\", 1))\n",
    "\n",
    "silent_no_cys(in_path, out_path, silent_name)"
   ]
  },
  {
   "cell_type": "markdown",
   "metadata": {},
   "source": [
    "### thrs"
   ]
  },
  {
   "cell_type": "code",
   "execution_count": 4,
   "metadata": {
    "scrolled": true
   },
   "outputs": [
    {
     "name": "stdout",
     "output_type": "stream",
     "text": [
      "core.conformation.Conformation: {0} [ WARNING ] missing heavyatom:  OXT on residue ASP:CtermProteinFull 356\n",
      "core.conformation.Conformation: {0} [ WARNING ] missing heavyatom:  OXT on residue ASP:CtermProteinFull 312\n",
      "core.conformation.Conformation: {0} [ WARNING ] missing heavyatom:  OXT on residue ASP:CtermProteinFull 276\n",
      "core.conformation.Conformation: {0} [ WARNING ] missing heavyatom:  OXT on residue ASP:CtermProteinFull 320\n",
      "core.conformation.Conformation: {0} [ WARNING ] missing heavyatom:  OXT on residue ASP:CtermProteinFull 356\n",
      "core.conformation.Conformation: {0} [ WARNING ] missing heavyatom:  OXT on residue ASP:CtermProteinFull 320\n",
      "core.conformation.Conformation: {0} [ WARNING ] missing heavyatom:  OXT on residue ASP:CtermProteinFull 316\n",
      "core.conformation.Conformation: {0} [ WARNING ] missing heavyatom:  OXT on residue ASP:CtermProteinFull 296\n",
      "core.conformation.Conformation: {0} [ WARNING ] missing heavyatom:  OXT on residue SER:CtermProteinFull 304\n",
      "core.conformation.Conformation: {0} [ WARNING ] missing heavyatom:  OXT on residue GLN:CtermProteinFull 300\n",
      "core.conformation.Conformation: {0} [ WARNING ] missing heavyatom:  OXT on residue ASP:CtermProteinFull 320\n"
     ]
    },
    {
     "data": {
      "text/plain": [
       "'\\n    in_path: /mnt/home/pleung/projects/bistable_bundle/r4/hinges/00_inputs/thrs\\n    out_path: /mnt/home/pleung/projects/bistable_bundle/r4/hinges/00_silents\\n    packed 11 poses'"
      ]
     },
     "execution_count": 4,
     "metadata": {},
     "output_type": "execute_result"
    }
   ],
   "source": [
    "in_path = os.path.join(os.getcwd(), \"00_inputs/thrs\")\n",
    "out_path = os.path.join(os.getcwd(), \"00_silents\")\n",
    "silent_name = \"thrs.silent\"\n",
    "\n",
    "silent_no_cys(in_path, out_path, silent_name)"
   ]
  },
  {
   "cell_type": "markdown",
   "metadata": {},
   "source": [
    "### th_dhrs"
   ]
  },
  {
   "cell_type": "code",
   "execution_count": 5,
   "metadata": {
    "scrolled": true
   },
   "outputs": [
    {
     "name": "stdout",
     "output_type": "stream",
     "text": [
      "core.conformation.Conformation: {0} [ WARNING ] missing heavyatom:  CE  on residue LYS 2\n",
      "core.conformation.Conformation: {0} [ WARNING ] missing heavyatom:  NZ  on residue LYS 2\n",
      "core.conformation.Conformation: {0} [ WARNING ] missing heavyatom:  CG  on residue LYS 3\n",
      "core.conformation.Conformation: {0} [ WARNING ] missing heavyatom:  CD  on residue LYS 3\n",
      "core.conformation.Conformation: {0} [ WARNING ] missing heavyatom:  CE  on residue LYS 3\n",
      "core.conformation.Conformation: {0} [ WARNING ] missing heavyatom:  NZ  on residue LYS 3\n",
      "core.conformation.Conformation: {0} [ WARNING ] missing heavyatom:  CG  on residue LYS 6\n",
      "core.conformation.Conformation: {0} [ WARNING ] missing heavyatom:  CD  on residue LYS 6\n",
      "core.conformation.Conformation: {0} [ WARNING ] missing heavyatom:  CE  on residue LYS 6\n",
      "core.conformation.Conformation: {0} [ WARNING ] missing heavyatom:  NZ  on residue LYS 6\n",
      "core.conformation.Conformation: {0} [ WARNING ] missing heavyatom:  CG  on residue GLU 10\n",
      "core.conformation.Conformation: {0} [ WARNING ] missing heavyatom:  CD  on residue GLU 10\n",
      "core.conformation.Conformation: {0} [ WARNING ] missing heavyatom:  OE1 on residue GLU 10\n",
      "core.conformation.Conformation: {0} [ WARNING ] missing heavyatom:  OE2 on residue GLU 10\n",
      "core.conformation.Conformation: {0} [ WARNING ] missing heavyatom:  CG  on residue LYS 14\n",
      "core.conformation.Conformation: {0} [ WARNING ] missing heavyatom:  CD  on residue LYS 14\n",
      "core.conformation.Conformation: {0} [ WARNING ] missing heavyatom:  CE  on residue LYS 14\n",
      "core.conformation.Conformation: {0} [ WARNING ] missing heavyatom:  NZ  on residue LYS 14\n",
      "core.conformation.Conformation: {0} [ WARNING ] missing heavyatom:  CG  on residue GLU 17\n",
      "core.conformation.Conformation: {0} [ WARNING ] missing heavyatom:  CD  on residue GLU 17\n",
      "core.conformation.Conformation: {0} [ WARNING ] missing heavyatom:  OE1 on residue GLU 17\n",
      "core.conformation.Conformation: {0} [ WARNING ] missing heavyatom:  OE2 on residue GLU 17\n",
      "core.conformation.Conformation: {0} [ WARNING ] missing heavyatom:  CG  on residue LYS 20\n",
      "core.conformation.Conformation: {0} [ WARNING ] missing heavyatom:  CD  on residue LYS 20\n",
      "core.conformation.Conformation: {0} [ WARNING ] missing heavyatom:  CE  on residue LYS 20\n",
      "core.conformation.Conformation: {0} [ WARNING ] missing heavyatom:  NZ  on residue LYS 20\n",
      "core.conformation.Conformation: {0} [ WARNING ] missing heavyatom:  CG  on residue ARG 47\n",
      "core.conformation.Conformation: {0} [ WARNING ] missing heavyatom:  CD  on residue ARG 47\n",
      "core.conformation.Conformation: {0} [ WARNING ] missing heavyatom:  NE  on residue ARG 47\n",
      "core.conformation.Conformation: {0} [ WARNING ] missing heavyatom:  CZ  on residue ARG 47\n",
      "core.conformation.Conformation: {0} [ WARNING ] missing heavyatom:  NH1 on residue ARG 47\n",
      "core.conformation.Conformation: {0} [ WARNING ] missing heavyatom:  NH2 on residue ARG 47\n",
      "core.conformation.Conformation: {0} [ WARNING ] missing heavyatom:  CG  on residue GLU 48\n",
      "core.conformation.Conformation: {0} [ WARNING ] missing heavyatom:  CD  on residue GLU 48\n",
      "core.conformation.Conformation: {0} [ WARNING ] missing heavyatom:  OE1 on residue GLU 48\n",
      "core.conformation.Conformation: {0} [ WARNING ] missing heavyatom:  OE2 on residue GLU 48\n",
      "core.conformation.Conformation: {0} [ WARNING ] missing heavyatom:  CD  on residue GLU 68\n",
      "core.conformation.Conformation: {0} [ WARNING ] missing heavyatom:  OE1 on residue GLU 68\n",
      "core.conformation.Conformation: {0} [ WARNING ] missing heavyatom:  OE2 on residue GLU 68\n",
      "core.conformation.Conformation: {0} [ WARNING ] missing heavyatom:  CG  on residue GLU 76\n",
      "core.conformation.Conformation: {0} [ WARNING ] missing heavyatom:  CD  on residue GLU 76\n",
      "core.conformation.Conformation: {0} [ WARNING ] missing heavyatom:  OE1 on residue GLU 76\n",
      "core.conformation.Conformation: {0} [ WARNING ] missing heavyatom:  OE2 on residue GLU 76\n",
      "core.conformation.Conformation: {0} [ WARNING ] missing heavyatom:  CG  on residue GLU 127\n",
      "core.conformation.Conformation: {0} [ WARNING ] missing heavyatom:  CD  on residue GLU 127\n",
      "core.conformation.Conformation: {0} [ WARNING ] missing heavyatom:  OE1 on residue GLU 127\n",
      "core.conformation.Conformation: {0} [ WARNING ] missing heavyatom:  OE2 on residue GLU 127\n",
      "core.conformation.Conformation: {0} [ WARNING ] missing heavyatom:  CG  on residue LYS 155\n",
      "core.conformation.Conformation: {0} [ WARNING ] missing heavyatom:  CD  on residue LYS 155\n",
      "core.conformation.Conformation: {0} [ WARNING ] missing heavyatom:  CE  on residue LYS 155\n",
      "core.conformation.Conformation: {0} [ WARNING ] missing heavyatom:  NZ  on residue LYS 155\n",
      "core.conformation.Conformation: {0} [ WARNING ] missing heavyatom:  CG  on residue ARG 199\n",
      "core.conformation.Conformation: {0} [ WARNING ] missing heavyatom:  CD  on residue ARG 199\n",
      "core.conformation.Conformation: {0} [ WARNING ] missing heavyatom:  NE  on residue ARG 199\n",
      "core.conformation.Conformation: {0} [ WARNING ] missing heavyatom:  CZ  on residue ARG 199\n",
      "core.conformation.Conformation: {0} [ WARNING ] missing heavyatom:  NH1 on residue ARG 199\n",
      "core.conformation.Conformation: {0} [ WARNING ] missing heavyatom:  NH2 on residue ARG 199\n",
      "core.conformation.Conformation: {0} [ WARNING ] missing heavyatom:  OXT on residue LYS:CtermProteinFull 200\n",
      "core.conformation.Conformation: {0} [ WARNING ] missing heavyatom:  OXT on residue GLU:CtermProteinFull 328\n",
      "core.conformation.Conformation: {0} [ WARNING ] missing heavyatom:  OXT on residue ASP:CtermProteinFull 336\n",
      "core.conformation.Conformation: {0} [ WARNING ] missing heavyatom:  OXT on residue ASP:CtermProteinFull 336\n",
      "core.conformation.Conformation: {0} [ WARNING ] missing heavyatom:  OXT on residue LEU:CtermProteinFull 201\n",
      "core.io.pose_from_sfr.PoseFromSFRBuilder: {0} [ WARNING ] discarding 2 atoms at position 7 in file /mnt/home/pleung/projects/bistable_bundle/r4/hinges/00_inputs/th_dhrs/TH_DHR_2_NSR.pdb. Best match rsd_type:  GLU\n",
      "core.io.pose_from_sfr.PoseFromSFRBuilder: {0} [ WARNING ] discarding 2 atoms at position 17 in file /mnt/home/pleung/projects/bistable_bundle/r4/hinges/00_inputs/th_dhrs/TH_DHR_2_NSR.pdb. Best match rsd_type:  GLU\n",
      "core.io.pose_from_sfr.PoseFromSFRBuilder: {0} [ WARNING ] discarding 2 atoms at position 38 in file /mnt/home/pleung/projects/bistable_bundle/r4/hinges/00_inputs/th_dhrs/TH_DHR_2_NSR.pdb. Best match rsd_type:  GLU\n",
      "core.io.pose_from_sfr.PoseFromSFRBuilder: {0} [ WARNING ] discarding 2 atoms at position 44 in file /mnt/home/pleung/projects/bistable_bundle/r4/hinges/00_inputs/th_dhrs/TH_DHR_2_NSR.pdb. Best match rsd_type:  GLU\n",
      "core.io.pose_from_sfr.PoseFromSFRBuilder: {0} [ WARNING ] discarding 2 atoms at position 67 in file /mnt/home/pleung/projects/bistable_bundle/r4/hinges/00_inputs/th_dhrs/TH_DHR_2_NSR.pdb. Best match rsd_type:  GLU\n",
      "core.io.pose_from_sfr.PoseFromSFRBuilder: {0} [ WARNING ] discarding 2 atoms at position 74 in file /mnt/home/pleung/projects/bistable_bundle/r4/hinges/00_inputs/th_dhrs/TH_DHR_2_NSR.pdb. Best match rsd_type:  GLU\n",
      "core.io.pose_from_sfr.PoseFromSFRBuilder: {0} [ WARNING ] discarding 2 atoms at position 94 in file /mnt/home/pleung/projects/bistable_bundle/r4/hinges/00_inputs/th_dhrs/TH_DHR_2_NSR.pdb. Best match rsd_type:  GLU\n",
      "core.io.pose_from_sfr.PoseFromSFRBuilder: {0} [ WARNING ] discarding 2 atoms at position 104 in file /mnt/home/pleung/projects/bistable_bundle/r4/hinges/00_inputs/th_dhrs/TH_DHR_2_NSR.pdb. Best match rsd_type:  GLU\n",
      "core.io.pose_from_sfr.PoseFromSFRBuilder: {0} [ WARNING ] discarding 2 atoms at position 124 in file /mnt/home/pleung/projects/bistable_bundle/r4/hinges/00_inputs/th_dhrs/TH_DHR_2_NSR.pdb. Best match rsd_type:  GLU\n",
      "core.io.pose_from_sfr.PoseFromSFRBuilder: {0} [ WARNING ] discarding 2 atoms at position 134 in file /mnt/home/pleung/projects/bistable_bundle/r4/hinges/00_inputs/th_dhrs/TH_DHR_2_NSR.pdb. Best match rsd_type:  GLU\n",
      "core.io.pose_from_sfr.PoseFromSFRBuilder: {0} [ WARNING ] discarding 2 atoms at position 141 in file /mnt/home/pleung/projects/bistable_bundle/r4/hinges/00_inputs/th_dhrs/TH_DHR_2_NSR.pdb. Best match rsd_type:  GLU\n",
      "core.io.pose_from_sfr.PoseFromSFRBuilder: {0} [ WARNING ] discarding 2 atoms at position 153 in file /mnt/home/pleung/projects/bistable_bundle/r4/hinges/00_inputs/th_dhrs/TH_DHR_2_NSR.pdb. Best match rsd_type:  GLU\n",
      "core.io.pose_from_sfr.PoseFromSFRBuilder: {0} [ WARNING ] can't find pose atom for file-residue 7 atom 3HB  (trying to store temperature in PDBInfo)\n",
      "core.io.pose_from_sfr.PoseFromSFRBuilder: {0} [ WARNING ] can't find pose atom for file-residue 7 atom 3HG  (trying to store temperature in PDBInfo)\n",
      "core.io.pose_from_sfr.PoseFromSFRBuilder: {0} [ WARNING ] can't find pose atom for file-residue 17 atom 3HB  (trying to store temperature in PDBInfo)\n",
      "core.io.pose_from_sfr.PoseFromSFRBuilder: {0} [ WARNING ] can't find pose atom for file-residue 17 atom 3HG  (trying to store temperature in PDBInfo)\n",
      "core.io.pose_from_sfr.PoseFromSFRBuilder: {0} [ WARNING ] can't find pose atom for file-residue 38 atom 3HB  (trying to store temperature in PDBInfo)\n",
      "core.io.pose_from_sfr.PoseFromSFRBuilder: {0} [ WARNING ] can't find pose atom for file-residue 38 atom 3HG  (trying to store temperature in PDBInfo)\n",
      "core.io.pose_from_sfr.PoseFromSFRBuilder: {0} [ WARNING ] can't find pose atom for file-residue 44 atom 3HB  (trying to store temperature in PDBInfo)\n",
      "core.io.pose_from_sfr.PoseFromSFRBuilder: {0} [ WARNING ] can't find pose atom for file-residue 44 atom 3HG  (trying to store temperature in PDBInfo)\n",
      "core.io.pose_from_sfr.PoseFromSFRBuilder: {0} [ WARNING ] can't find pose atom for file-residue 67 atom 3HB  (trying to store temperature in PDBInfo)\n",
      "core.io.pose_from_sfr.PoseFromSFRBuilder: {0} [ WARNING ] can't find pose atom for file-residue 67 atom 3HG  (trying to store temperature in PDBInfo)\n",
      "core.io.pose_from_sfr.PoseFromSFRBuilder: {0} [ WARNING ] can't find pose atom for file-residue 74 atom 3HB  (trying to store temperature in PDBInfo)\n",
      "core.io.pose_from_sfr.PoseFromSFRBuilder: {0} [ WARNING ] can't find pose atom for file-residue 74 atom 3HG  (trying to store temperature in PDBInfo)\n",
      "core.io.pose_from_sfr.PoseFromSFRBuilder: {0} [ WARNING ] can't find pose atom for file-residue 94 atom 3HB  (trying to store temperature in PDBInfo)\n",
      "core.io.pose_from_sfr.PoseFromSFRBuilder: {0} [ WARNING ] can't find pose atom for file-residue 94 atom 3HG  (trying to store temperature in PDBInfo)\n",
      "core.io.pose_from_sfr.PoseFromSFRBuilder: {0} [ WARNING ] can't find pose atom for file-residue 104 atom 3HB  (trying to store temperature in PDBInfo)\n",
      "core.io.pose_from_sfr.PoseFromSFRBuilder: {0} [ WARNING ] can't find pose atom for file-residue 104 atom 3HG  (trying to store temperature in PDBInfo)\n",
      "core.io.pose_from_sfr.PoseFromSFRBuilder: {0} [ WARNING ] can't find pose atom for file-residue 124 atom 3HB  (trying to store temperature in PDBInfo)\n",
      "core.io.pose_from_sfr.PoseFromSFRBuilder: {0} [ WARNING ] can't find pose atom for file-residue 124 atom 3HG  (trying to store temperature in PDBInfo)\n",
      "core.io.pose_from_sfr.PoseFromSFRBuilder: {0} [ WARNING ] can't find pose atom for file-residue 134 atom 3HB  (trying to store temperature in PDBInfo)\n",
      "core.io.pose_from_sfr.PoseFromSFRBuilder: {0} [ WARNING ] can't find pose atom for file-residue 134 atom 3HG  (trying to store temperature in PDBInfo)\n",
      "core.io.pose_from_sfr.PoseFromSFRBuilder: {0} [ WARNING ] can't find pose atom for file-residue 141 atom 3HB  (trying to store temperature in PDBInfo)\n",
      "core.io.pose_from_sfr.PoseFromSFRBuilder: {0} [ WARNING ] can't find pose atom for file-residue 141 atom 3HG  (trying to store temperature in PDBInfo)\n",
      "core.io.pose_from_sfr.PoseFromSFRBuilder: {0} [ WARNING ] can't find pose atom for file-residue 153 atom 3HB  (trying to store temperature in PDBInfo)\n",
      "core.io.pose_from_sfr.PoseFromSFRBuilder: {0} [ WARNING ] can't find pose atom for file-residue 153 atom 3HG  (trying to store temperature in PDBInfo)\n"
     ]
    },
    {
     "data": {
      "text/plain": [
       "'\\n    in_path: /mnt/home/pleung/projects/bistable_bundle/r4/hinges/00_inputs/th_dhrs\\n    out_path: /mnt/home/pleung/projects/bistable_bundle/r4/hinges/00_silents\\n    packed 9 poses'"
      ]
     },
     "execution_count": 5,
     "metadata": {},
     "output_type": "execute_result"
    }
   ],
   "source": [
    "in_path = os.path.join(os.getcwd(), \"00_inputs/th_dhrs\")\n",
    "out_path = os.path.join(os.getcwd(), \"00_silents\")\n",
    "silent_name = \"th_dhrs.silent\"\n",
    "\n",
    "silent_no_cys(in_path, out_path, silent_name)"
   ]
  },
  {
   "cell_type": "markdown",
   "metadata": {},
   "source": [
    "### harley"
   ]
  },
  {
   "cell_type": "code",
   "execution_count": 6,
   "metadata": {
    "scrolled": true
   },
   "outputs": [
    {
     "data": {
      "text/plain": [
       "'\\n    in_path: /mnt/home/pleung/projects/bistable_bundle/r4/hinges/00_inputs/harley\\n    out_path: /mnt/home/pleung/projects/bistable_bundle/r4/hinges/00_silents\\n    packed 17 poses'"
      ]
     },
     "execution_count": 6,
     "metadata": {},
     "output_type": "execute_result"
    }
   ],
   "source": [
    "in_path = os.path.join(os.getcwd(), \"00_inputs/harley\")\n",
    "out_path = os.path.join(os.getcwd(), \"00_silents\")\n",
    "silent_name = \"harley.silent\"\n",
    "\n",
    "silent_no_cys(in_path, out_path, silent_name)"
   ]
  },
  {
   "cell_type": "code",
   "execution_count": 7,
   "metadata": {},
   "outputs": [
    {
     "data": {
      "text/plain": [
       "'\\n    in_path: /mnt/home/pleung/projects/bistable_bundle/r4/hinges/00_inputs/harley_THR\\n    out_path: /mnt/home/pleung/projects/bistable_bundle/r4/hinges/00_silents\\n    packed 2 poses'"
      ]
     },
     "execution_count": 7,
     "metadata": {},
     "output_type": "execute_result"
    }
   ],
   "source": [
    "in_path = os.path.join(os.getcwd(), \"00_inputs/harley_THR\")\n",
    "out_path = os.path.join(os.getcwd(), \"00_silents\")\n",
    "silent_name = \"harley_thrs.silent\"\n",
    "\n",
    "silent_no_cys(in_path, out_path, silent_name)"
   ]
  },
  {
   "cell_type": "code",
   "execution_count": 8,
   "metadata": {},
   "outputs": [
    {
     "name": "stdout",
     "output_type": "stream",
     "text": [
      "mkdir: cannot create directory ‘figs’: File exists\n"
     ]
    }
   ],
   "source": [
    "!mkdir figs"
   ]
  }
 ],
 "metadata": {
  "kernelspec": {
   "display_name": "phil (3.8.2)",
   "language": "python",
   "name": "phil"
  },
  "language_info": {
   "codemirror_mode": {
    "name": "ipython",
    "version": 3
   },
   "file_extension": ".py",
   "mimetype": "text/x-python",
   "name": "python",
   "nbconvert_exporter": "python",
   "pygments_lexer": "ipython3",
   "version": "3.8.8"
  }
 },
 "nbformat": 4,
 "nbformat_minor": 4
}
