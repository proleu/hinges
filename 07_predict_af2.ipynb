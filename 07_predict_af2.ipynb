{
 "cells": [
  {
   "cell_type": "markdown",
   "metadata": {},
   "source": [
    "# Predict the states with AF2"
   ]
  },
  {
   "cell_type": "markdown",
   "metadata": {},
   "source": [
    "### Boilerplate"
   ]
  },
  {
   "cell_type": "code",
   "execution_count": 9,
   "metadata": {
    "scrolled": true
   },
   "outputs": [
    {
     "name": "stdout",
     "output_type": "stream",
     "text": [
      "The nb_black extension is already loaded. To reload it, use:\n",
      "  %reload_ext nb_black\n",
      "The autoreload extension is already loaded. To reload it, use:\n",
      "  %reload_ext autoreload\n",
      "/mnt/home/pleung/projects/bistable_bundle/r4/hinges\n",
      "dig107\n"
     ]
    },
    {
     "data": {
      "application/javascript": [
       "\n",
       "            setTimeout(function() {\n",
       "                var nbb_cell_id = 9;\n",
       "                var nbb_unformatted_code = \"%load_ext nb_black\\n# python internal\\nimport collections\\nimport copy\\nimport gc\\nfrom glob import glob\\nimport h5py\\nimport itertools\\nimport os\\nimport random\\nimport re\\nimport socket\\nimport shutil\\nimport subprocess\\nimport sys\\n\\n# conda/pip\\nimport dask\\nimport graphviz\\nimport matplotlib.pyplot as plt\\nimport pandas as pd\\nimport numpy as np\\nimport scipy\\nimport seaborn as sns\\nfrom tqdm import tqdm\\n\\n# special packages on the DIGS\\nimport py3Dmol\\nimport pymol\\nimport pyrosetta\\n\\n# notebook magic\\n%matplotlib inline\\n%load_ext autoreload\\n%autoreload 2\\n\\nprint(os.getcwd())\\nprint(socket.gethostname())\";\n",
       "                var nbb_formatted_code = \"%load_ext nb_black\\n# python internal\\nimport collections\\nimport copy\\nimport gc\\nfrom glob import glob\\nimport h5py\\nimport itertools\\nimport os\\nimport random\\nimport re\\nimport socket\\nimport shutil\\nimport subprocess\\nimport sys\\n\\n# conda/pip\\nimport dask\\nimport graphviz\\nimport matplotlib.pyplot as plt\\nimport pandas as pd\\nimport numpy as np\\nimport scipy\\nimport seaborn as sns\\nfrom tqdm import tqdm\\n\\n# special packages on the DIGS\\nimport py3Dmol\\nimport pymol\\nimport pyrosetta\\n\\n# notebook magic\\n%matplotlib inline\\n%load_ext autoreload\\n%autoreload 2\\n\\nprint(os.getcwd())\\nprint(socket.gethostname())\";\n",
       "                var nbb_cells = Jupyter.notebook.get_cells();\n",
       "                for (var i = 0; i < nbb_cells.length; ++i) {\n",
       "                    if (nbb_cells[i].input_prompt_number == nbb_cell_id) {\n",
       "                        if (nbb_cells[i].get_text() == nbb_unformatted_code) {\n",
       "                             nbb_cells[i].set_text(nbb_formatted_code);\n",
       "                        }\n",
       "                        break;\n",
       "                    }\n",
       "                }\n",
       "            }, 500);\n",
       "            "
      ],
      "text/plain": [
       "<IPython.core.display.Javascript object>"
      ]
     },
     "metadata": {},
     "output_type": "display_data"
    }
   ],
   "source": [
    "%load_ext nb_black\n",
    "# python internal\n",
    "import collections\n",
    "import copy\n",
    "import gc\n",
    "from glob import glob\n",
    "import h5py\n",
    "import itertools\n",
    "import os\n",
    "import random\n",
    "import re\n",
    "import socket\n",
    "import shutil\n",
    "import subprocess\n",
    "import sys\n",
    "\n",
    "# conda/pip\n",
    "import dask\n",
    "import graphviz\n",
    "import matplotlib.pyplot as plt\n",
    "import pandas as pd\n",
    "import numpy as np\n",
    "import scipy\n",
    "import seaborn as sns\n",
    "from tqdm import tqdm\n",
    "\n",
    "# special packages on the DIGS\n",
    "import py3Dmol\n",
    "import pymol\n",
    "import pyrosetta\n",
    "\n",
    "# notebook magic\n",
    "%matplotlib inline\n",
    "%load_ext autoreload\n",
    "%autoreload 2\n",
    "\n",
    "print(os.getcwd())\n",
    "print(socket.gethostname())"
   ]
  },
  {
   "cell_type": "markdown",
   "metadata": {},
   "source": [
    "### Get all decoys that had decent two state rosetta metrics\n",
    "Hacky function to load JSON-like data"
   ]
  },
  {
   "cell_type": "code",
   "execution_count": 2,
   "metadata": {},
   "outputs": [
    {
     "data": {
      "text/html": [
       "<div>\n",
       "<style scoped>\n",
       "    .dataframe tbody tr th:only-of-type {\n",
       "        vertical-align: middle;\n",
       "    }\n",
       "\n",
       "    .dataframe tbody tr th {\n",
       "        vertical-align: top;\n",
       "    }\n",
       "\n",
       "    .dataframe thead th {\n",
       "        text-align: right;\n",
       "    }\n",
       "</style>\n",
       "<table border=\"1\" class=\"dataframe\">\n",
       "  <thead>\n",
       "    <tr style=\"text-align: right;\">\n",
       "      <th></th>\n",
       "      <th>HIS_burial_X</th>\n",
       "      <th>HIS_burial_Y</th>\n",
       "      <th>TRP_burial_X</th>\n",
       "      <th>TRP_burial_Y</th>\n",
       "      <th>X_nocys_path</th>\n",
       "      <th>X_path</th>\n",
       "      <th>X_seq</th>\n",
       "      <th>Y_nocys_path</th>\n",
       "      <th>Y_path</th>\n",
       "      <th>Y_seq</th>\n",
       "      <th>...</th>\n",
       "      <th>total_length</th>\n",
       "      <th>total_score</th>\n",
       "      <th>total_score_X</th>\n",
       "      <th>total_score_Y</th>\n",
       "      <th>vbuns_X</th>\n",
       "      <th>vbuns_Y</th>\n",
       "      <th>wnm_all_X</th>\n",
       "      <th>wnm_all_Y</th>\n",
       "      <th>wnm_hlx_X</th>\n",
       "      <th>wnm_hlx_Y</th>\n",
       "    </tr>\n",
       "  </thead>\n",
       "  <tbody>\n",
       "    <tr>\n",
       "      <th>/mnt/home/pleung/projects/bistable_bundle/r4/hinges/06_cleanup/decoys/0000/2021.06.26.14.24.46.542335_1c3348aaff704bdaa73c6d67fa2db82a.pdb.bz2</th>\n",
       "      <td>191.598892</td>\n",
       "      <td>161.116302</td>\n",
       "      <td>235.250000</td>\n",
       "      <td>221.223358</td>\n",
       "      <td>/mnt/home/pleung/projects/bistable_bundle/r4/h...</td>\n",
       "      <td>/mnt/home/pleung/projects/bistable_bundle/r4/h...</td>\n",
       "      <td>TKEEKERIERIEKEVRSPDPENIREAVRKAKELAEENDSEEVKRLL...</td>\n",
       "      <td>/mnt/home/pleung/projects/bistable_bundle/r4/h...</td>\n",
       "      <td>/mnt/home/pleung/projects/bistable_bundle/r4/h...</td>\n",
       "      <td>TKEEKERIERIEKEVRSPDPENIREAVRKAKELAEENDSCEVKRLL...</td>\n",
       "      <td>...</td>\n",
       "      <td>156.0</td>\n",
       "      <td>-200.714910</td>\n",
       "      <td>-495.980011</td>\n",
       "      <td>-490.601990</td>\n",
       "      <td>0.0</td>\n",
       "      <td>0.0</td>\n",
       "      <td>0.344967</td>\n",
       "      <td>0.369241</td>\n",
       "      <td>0.121823</td>\n",
       "      <td>0.108301</td>\n",
       "    </tr>\n",
       "    <tr>\n",
       "      <th>/mnt/home/pleung/projects/bistable_bundle/r4/hinges/06_cleanup/decoys/0000/2021.06.26.14.24.46.542335_3d928f3daa034749a030c7e9ce8f40db.pdb.bz2</th>\n",
       "      <td>191.742218</td>\n",
       "      <td>190.977066</td>\n",
       "      <td>235.254822</td>\n",
       "      <td>219.012299</td>\n",
       "      <td>/mnt/home/pleung/projects/bistable_bundle/r4/h...</td>\n",
       "      <td>/mnt/home/pleung/projects/bistable_bundle/r4/h...</td>\n",
       "      <td>TKEEKERIERIEKEVRSPDPENIREAVRKAVELMRENPSEEVKRLV...</td>\n",
       "      <td>/mnt/home/pleung/projects/bistable_bundle/r4/h...</td>\n",
       "      <td>/mnt/home/pleung/projects/bistable_bundle/r4/h...</td>\n",
       "      <td>TKEEKERIERIEKEVRSPDPENIREAVRKAVELMRENPSCEVKRLV...</td>\n",
       "      <td>...</td>\n",
       "      <td>156.0</td>\n",
       "      <td>15.583651</td>\n",
       "      <td>-518.669983</td>\n",
       "      <td>-505.704010</td>\n",
       "      <td>0.0</td>\n",
       "      <td>0.0</td>\n",
       "      <td>0.349388</td>\n",
       "      <td>0.696476</td>\n",
       "      <td>0.120602</td>\n",
       "      <td>0.129675</td>\n",
       "    </tr>\n",
       "    <tr>\n",
       "      <th>/mnt/home/pleung/projects/bistable_bundle/r4/hinges/06_cleanup/decoys/0000/2021.06.26.14.24.46.542335_28be1bd66de54aed83f7639dcd62c32f.pdb.bz2</th>\n",
       "      <td>0.000000</td>\n",
       "      <td>0.000000</td>\n",
       "      <td>221.614243</td>\n",
       "      <td>242.966599</td>\n",
       "      <td>/mnt/home/pleung/projects/bistable_bundle/r4/h...</td>\n",
       "      <td>/mnt/home/pleung/projects/bistable_bundle/r4/h...</td>\n",
       "      <td>DSEEEQERIRRILKEARKSGTEESLEQAIEDVAQLAKKSQDPRVLE...</td>\n",
       "      <td>/mnt/home/pleung/projects/bistable_bundle/r4/h...</td>\n",
       "      <td>/mnt/home/pleung/projects/bistable_bundle/r4/h...</td>\n",
       "      <td>DSEEEQERIRRILKEARKSGTEESLEQAIEDVAQLAKKSQDPRVLE...</td>\n",
       "      <td>...</td>\n",
       "      <td>160.0</td>\n",
       "      <td>-205.345371</td>\n",
       "      <td>-548.015991</td>\n",
       "      <td>-559.239014</td>\n",
       "      <td>0.0</td>\n",
       "      <td>0.0</td>\n",
       "      <td>0.433880</td>\n",
       "      <td>0.644063</td>\n",
       "      <td>0.134351</td>\n",
       "      <td>0.108984</td>\n",
       "    </tr>\n",
       "    <tr>\n",
       "      <th>/mnt/home/pleung/projects/bistable_bundle/r4/hinges/06_cleanup/decoys/0000/2021.06.26.14.24.46.542335_0762f62cd16741048a97cb9036adac58.pdb.bz2</th>\n",
       "      <td>0.000000</td>\n",
       "      <td>0.000000</td>\n",
       "      <td>218.944855</td>\n",
       "      <td>230.889313</td>\n",
       "      <td>/mnt/home/pleung/projects/bistable_bundle/r4/h...</td>\n",
       "      <td>/mnt/home/pleung/projects/bistable_bundle/r4/h...</td>\n",
       "      <td>TKEEKERIERIEKEVRSPDPENIREAVRKAWELVEENPSEEALRLL...</td>\n",
       "      <td>/mnt/home/pleung/projects/bistable_bundle/r4/h...</td>\n",
       "      <td>/mnt/home/pleung/projects/bistable_bundle/r4/h...</td>\n",
       "      <td>TKEEKERIERIEKEVRSPDPENIREAVRKAWELVEENPSCEALRLL...</td>\n",
       "      <td>...</td>\n",
       "      <td>156.0</td>\n",
       "      <td>-67.159011</td>\n",
       "      <td>-514.296997</td>\n",
       "      <td>-492.813995</td>\n",
       "      <td>0.0</td>\n",
       "      <td>0.0</td>\n",
       "      <td>0.353671</td>\n",
       "      <td>0.777966</td>\n",
       "      <td>0.124616</td>\n",
       "      <td>0.113692</td>\n",
       "    </tr>\n",
       "    <tr>\n",
       "      <th>/mnt/home/pleung/projects/bistable_bundle/r4/hinges/06_cleanup/decoys/0000/2021.06.26.14.24.46.542335_394bedb1240946b9bbaf95c504a5e428.pdb.bz2</th>\n",
       "      <td>0.000000</td>\n",
       "      <td>0.000000</td>\n",
       "      <td>191.111252</td>\n",
       "      <td>208.557068</td>\n",
       "      <td>/mnt/home/pleung/projects/bistable_bundle/r4/h...</td>\n",
       "      <td>/mnt/home/pleung/projects/bistable_bundle/r4/h...</td>\n",
       "      <td>TIEEIAAELKKTIKEAAEAGADEEAVKDARKLVKEVEKAAKRGVDE...</td>\n",
       "      <td>/mnt/home/pleung/projects/bistable_bundle/r4/h...</td>\n",
       "      <td>/mnt/home/pleung/projects/bistable_bundle/r4/h...</td>\n",
       "      <td>TIEEIAAELKKTIKEAAEAGADEEAVKDARKLVKEVEKAAKRGVDE...</td>\n",
       "      <td>...</td>\n",
       "      <td>184.0</td>\n",
       "      <td>14.682345</td>\n",
       "      <td>-566.111023</td>\n",
       "      <td>-566.744995</td>\n",
       "      <td>0.0</td>\n",
       "      <td>0.0</td>\n",
       "      <td>0.687405</td>\n",
       "      <td>0.673628</td>\n",
       "      <td>0.122836</td>\n",
       "      <td>0.106946</td>\n",
       "    </tr>\n",
       "  </tbody>\n",
       "</table>\n",
       "<p>5 rows × 145 columns</p>\n",
       "</div>"
      ],
      "text/plain": [
       "                                                    HIS_burial_X  \\\n",
       "/mnt/home/pleung/projects/bistable_bundle/r4/hi...    191.598892   \n",
       "/mnt/home/pleung/projects/bistable_bundle/r4/hi...    191.742218   \n",
       "/mnt/home/pleung/projects/bistable_bundle/r4/hi...      0.000000   \n",
       "/mnt/home/pleung/projects/bistable_bundle/r4/hi...      0.000000   \n",
       "/mnt/home/pleung/projects/bistable_bundle/r4/hi...      0.000000   \n",
       "\n",
       "                                                    HIS_burial_Y  \\\n",
       "/mnt/home/pleung/projects/bistable_bundle/r4/hi...    161.116302   \n",
       "/mnt/home/pleung/projects/bistable_bundle/r4/hi...    190.977066   \n",
       "/mnt/home/pleung/projects/bistable_bundle/r4/hi...      0.000000   \n",
       "/mnt/home/pleung/projects/bistable_bundle/r4/hi...      0.000000   \n",
       "/mnt/home/pleung/projects/bistable_bundle/r4/hi...      0.000000   \n",
       "\n",
       "                                                    TRP_burial_X  \\\n",
       "/mnt/home/pleung/projects/bistable_bundle/r4/hi...    235.250000   \n",
       "/mnt/home/pleung/projects/bistable_bundle/r4/hi...    235.254822   \n",
       "/mnt/home/pleung/projects/bistable_bundle/r4/hi...    221.614243   \n",
       "/mnt/home/pleung/projects/bistable_bundle/r4/hi...    218.944855   \n",
       "/mnt/home/pleung/projects/bistable_bundle/r4/hi...    191.111252   \n",
       "\n",
       "                                                    TRP_burial_Y  \\\n",
       "/mnt/home/pleung/projects/bistable_bundle/r4/hi...    221.223358   \n",
       "/mnt/home/pleung/projects/bistable_bundle/r4/hi...    219.012299   \n",
       "/mnt/home/pleung/projects/bistable_bundle/r4/hi...    242.966599   \n",
       "/mnt/home/pleung/projects/bistable_bundle/r4/hi...    230.889313   \n",
       "/mnt/home/pleung/projects/bistable_bundle/r4/hi...    208.557068   \n",
       "\n",
       "                                                                                         X_nocys_path  \\\n",
       "/mnt/home/pleung/projects/bistable_bundle/r4/hi...  /mnt/home/pleung/projects/bistable_bundle/r4/h...   \n",
       "/mnt/home/pleung/projects/bistable_bundle/r4/hi...  /mnt/home/pleung/projects/bistable_bundle/r4/h...   \n",
       "/mnt/home/pleung/projects/bistable_bundle/r4/hi...  /mnt/home/pleung/projects/bistable_bundle/r4/h...   \n",
       "/mnt/home/pleung/projects/bistable_bundle/r4/hi...  /mnt/home/pleung/projects/bistable_bundle/r4/h...   \n",
       "/mnt/home/pleung/projects/bistable_bundle/r4/hi...  /mnt/home/pleung/projects/bistable_bundle/r4/h...   \n",
       "\n",
       "                                                                                               X_path  \\\n",
       "/mnt/home/pleung/projects/bistable_bundle/r4/hi...  /mnt/home/pleung/projects/bistable_bundle/r4/h...   \n",
       "/mnt/home/pleung/projects/bistable_bundle/r4/hi...  /mnt/home/pleung/projects/bistable_bundle/r4/h...   \n",
       "/mnt/home/pleung/projects/bistable_bundle/r4/hi...  /mnt/home/pleung/projects/bistable_bundle/r4/h...   \n",
       "/mnt/home/pleung/projects/bistable_bundle/r4/hi...  /mnt/home/pleung/projects/bistable_bundle/r4/h...   \n",
       "/mnt/home/pleung/projects/bistable_bundle/r4/hi...  /mnt/home/pleung/projects/bistable_bundle/r4/h...   \n",
       "\n",
       "                                                                                                X_seq  \\\n",
       "/mnt/home/pleung/projects/bistable_bundle/r4/hi...  TKEEKERIERIEKEVRSPDPENIREAVRKAKELAEENDSEEVKRLL...   \n",
       "/mnt/home/pleung/projects/bistable_bundle/r4/hi...  TKEEKERIERIEKEVRSPDPENIREAVRKAVELMRENPSEEVKRLV...   \n",
       "/mnt/home/pleung/projects/bistable_bundle/r4/hi...  DSEEEQERIRRILKEARKSGTEESLEQAIEDVAQLAKKSQDPRVLE...   \n",
       "/mnt/home/pleung/projects/bistable_bundle/r4/hi...  TKEEKERIERIEKEVRSPDPENIREAVRKAWELVEENPSEEALRLL...   \n",
       "/mnt/home/pleung/projects/bistable_bundle/r4/hi...  TIEEIAAELKKTIKEAAEAGADEEAVKDARKLVKEVEKAAKRGVDE...   \n",
       "\n",
       "                                                                                         Y_nocys_path  \\\n",
       "/mnt/home/pleung/projects/bistable_bundle/r4/hi...  /mnt/home/pleung/projects/bistable_bundle/r4/h...   \n",
       "/mnt/home/pleung/projects/bistable_bundle/r4/hi...  /mnt/home/pleung/projects/bistable_bundle/r4/h...   \n",
       "/mnt/home/pleung/projects/bistable_bundle/r4/hi...  /mnt/home/pleung/projects/bistable_bundle/r4/h...   \n",
       "/mnt/home/pleung/projects/bistable_bundle/r4/hi...  /mnt/home/pleung/projects/bistable_bundle/r4/h...   \n",
       "/mnt/home/pleung/projects/bistable_bundle/r4/hi...  /mnt/home/pleung/projects/bistable_bundle/r4/h...   \n",
       "\n",
       "                                                                                               Y_path  \\\n",
       "/mnt/home/pleung/projects/bistable_bundle/r4/hi...  /mnt/home/pleung/projects/bistable_bundle/r4/h...   \n",
       "/mnt/home/pleung/projects/bistable_bundle/r4/hi...  /mnt/home/pleung/projects/bistable_bundle/r4/h...   \n",
       "/mnt/home/pleung/projects/bistable_bundle/r4/hi...  /mnt/home/pleung/projects/bistable_bundle/r4/h...   \n",
       "/mnt/home/pleung/projects/bistable_bundle/r4/hi...  /mnt/home/pleung/projects/bistable_bundle/r4/h...   \n",
       "/mnt/home/pleung/projects/bistable_bundle/r4/hi...  /mnt/home/pleung/projects/bistable_bundle/r4/h...   \n",
       "\n",
       "                                                                                                Y_seq  \\\n",
       "/mnt/home/pleung/projects/bistable_bundle/r4/hi...  TKEEKERIERIEKEVRSPDPENIREAVRKAKELAEENDSCEVKRLL...   \n",
       "/mnt/home/pleung/projects/bistable_bundle/r4/hi...  TKEEKERIERIEKEVRSPDPENIREAVRKAVELMRENPSCEVKRLV...   \n",
       "/mnt/home/pleung/projects/bistable_bundle/r4/hi...  DSEEEQERIRRILKEARKSGTEESLEQAIEDVAQLAKKSQDPRVLE...   \n",
       "/mnt/home/pleung/projects/bistable_bundle/r4/hi...  TKEEKERIERIEKEVRSPDPENIREAVRKAWELVEENPSCEALRLL...   \n",
       "/mnt/home/pleung/projects/bistable_bundle/r4/hi...  TIEEIAAELKKTIKEAAEAGADEEAVKDARKLVKEVEKAAKRGVDE...   \n",
       "\n",
       "                                                    ...  total_length  \\\n",
       "/mnt/home/pleung/projects/bistable_bundle/r4/hi...  ...         156.0   \n",
       "/mnt/home/pleung/projects/bistable_bundle/r4/hi...  ...         156.0   \n",
       "/mnt/home/pleung/projects/bistable_bundle/r4/hi...  ...         160.0   \n",
       "/mnt/home/pleung/projects/bistable_bundle/r4/hi...  ...         156.0   \n",
       "/mnt/home/pleung/projects/bistable_bundle/r4/hi...  ...         184.0   \n",
       "\n",
       "                                                    total_score  \\\n",
       "/mnt/home/pleung/projects/bistable_bundle/r4/hi...  -200.714910   \n",
       "/mnt/home/pleung/projects/bistable_bundle/r4/hi...    15.583651   \n",
       "/mnt/home/pleung/projects/bistable_bundle/r4/hi...  -205.345371   \n",
       "/mnt/home/pleung/projects/bistable_bundle/r4/hi...   -67.159011   \n",
       "/mnt/home/pleung/projects/bistable_bundle/r4/hi...    14.682345   \n",
       "\n",
       "                                                    total_score_X  \\\n",
       "/mnt/home/pleung/projects/bistable_bundle/r4/hi...    -495.980011   \n",
       "/mnt/home/pleung/projects/bistable_bundle/r4/hi...    -518.669983   \n",
       "/mnt/home/pleung/projects/bistable_bundle/r4/hi...    -548.015991   \n",
       "/mnt/home/pleung/projects/bistable_bundle/r4/hi...    -514.296997   \n",
       "/mnt/home/pleung/projects/bistable_bundle/r4/hi...    -566.111023   \n",
       "\n",
       "                                                    total_score_Y  vbuns_X  \\\n",
       "/mnt/home/pleung/projects/bistable_bundle/r4/hi...    -490.601990      0.0   \n",
       "/mnt/home/pleung/projects/bistable_bundle/r4/hi...    -505.704010      0.0   \n",
       "/mnt/home/pleung/projects/bistable_bundle/r4/hi...    -559.239014      0.0   \n",
       "/mnt/home/pleung/projects/bistable_bundle/r4/hi...    -492.813995      0.0   \n",
       "/mnt/home/pleung/projects/bistable_bundle/r4/hi...    -566.744995      0.0   \n",
       "\n",
       "                                                    vbuns_Y  wnm_all_X  \\\n",
       "/mnt/home/pleung/projects/bistable_bundle/r4/hi...      0.0   0.344967   \n",
       "/mnt/home/pleung/projects/bistable_bundle/r4/hi...      0.0   0.349388   \n",
       "/mnt/home/pleung/projects/bistable_bundle/r4/hi...      0.0   0.433880   \n",
       "/mnt/home/pleung/projects/bistable_bundle/r4/hi...      0.0   0.353671   \n",
       "/mnt/home/pleung/projects/bistable_bundle/r4/hi...      0.0   0.687405   \n",
       "\n",
       "                                                   wnm_all_Y wnm_hlx_X  \\\n",
       "/mnt/home/pleung/projects/bistable_bundle/r4/hi...  0.369241  0.121823   \n",
       "/mnt/home/pleung/projects/bistable_bundle/r4/hi...  0.696476  0.120602   \n",
       "/mnt/home/pleung/projects/bistable_bundle/r4/hi...  0.644063  0.134351   \n",
       "/mnt/home/pleung/projects/bistable_bundle/r4/hi...  0.777966  0.124616   \n",
       "/mnt/home/pleung/projects/bistable_bundle/r4/hi...  0.673628  0.122836   \n",
       "\n",
       "                                                    wnm_hlx_Y  \n",
       "/mnt/home/pleung/projects/bistable_bundle/r4/hi...   0.108301  \n",
       "/mnt/home/pleung/projects/bistable_bundle/r4/hi...   0.129675  \n",
       "/mnt/home/pleung/projects/bistable_bundle/r4/hi...   0.108984  \n",
       "/mnt/home/pleung/projects/bistable_bundle/r4/hi...   0.113692  \n",
       "/mnt/home/pleung/projects/bistable_bundle/r4/hi...   0.106946  \n",
       "\n",
       "[5 rows x 145 columns]"
      ]
     },
     "execution_count": 2,
     "metadata": {},
     "output_type": "execute_result"
    },
    {
     "data": {
      "application/javascript": [
       "\n",
       "            setTimeout(function() {\n",
       "                var nbb_cell_id = 2;\n",
       "                var nbb_unformatted_code = \"def read_scorefile(scores):\\n    import pandas as pd\\n\\n    scores = pd.read_json(scores, orient=\\\"records\\\", typ=\\\"frame\\\", lines=True)\\n    scores = scores.T\\n    mat = scores.values\\n    n = mat.shape[0]\\n    dicts = list(mat[range(n), range(n)])\\n    index = scores.index\\n    tabulated_scores = pd.DataFrame(dicts, index=index)\\n    return tabulated_scores\\n\\n\\noutput_path = os.path.join(os.getcwd(), \\\"06_cleanup\\\")\\nscores = os.path.join(output_path, \\\"scores.json\\\")\\nscores_df = read_scorefile(scores)\\nscores_df.head()\";\n",
       "                var nbb_formatted_code = \"def read_scorefile(scores):\\n    import pandas as pd\\n\\n    scores = pd.read_json(scores, orient=\\\"records\\\", typ=\\\"frame\\\", lines=True)\\n    scores = scores.T\\n    mat = scores.values\\n    n = mat.shape[0]\\n    dicts = list(mat[range(n), range(n)])\\n    index = scores.index\\n    tabulated_scores = pd.DataFrame(dicts, index=index)\\n    return tabulated_scores\\n\\n\\noutput_path = os.path.join(os.getcwd(), \\\"06_cleanup\\\")\\nscores = os.path.join(output_path, \\\"scores.json\\\")\\nscores_df = read_scorefile(scores)\\nscores_df.head()\";\n",
       "                var nbb_cells = Jupyter.notebook.get_cells();\n",
       "                for (var i = 0; i < nbb_cells.length; ++i) {\n",
       "                    if (nbb_cells[i].input_prompt_number == nbb_cell_id) {\n",
       "                        if (nbb_cells[i].get_text() == nbb_unformatted_code) {\n",
       "                             nbb_cells[i].set_text(nbb_formatted_code);\n",
       "                        }\n",
       "                        break;\n",
       "                    }\n",
       "                }\n",
       "            }, 500);\n",
       "            "
      ],
      "text/plain": [
       "<IPython.core.display.Javascript object>"
      ]
     },
     "metadata": {},
     "output_type": "display_data"
    }
   ],
   "source": [
    "def read_scorefile(scores):\n",
    "    import pandas as pd\n",
    "\n",
    "    scores = pd.read_json(scores, orient=\"records\", typ=\"frame\", lines=True)\n",
    "    scores = scores.T\n",
    "    mat = scores.values\n",
    "    n = mat.shape[0]\n",
    "    dicts = list(mat[range(n), range(n)])\n",
    "    index = scores.index\n",
    "    tabulated_scores = pd.DataFrame(dicts, index=index)\n",
    "    return tabulated_scores\n",
    "\n",
    "\n",
    "output_path = os.path.join(os.getcwd(), \"06_cleanup\")\n",
    "scores = os.path.join(output_path, \"scores.json\")\n",
    "scores_df = read_scorefile(scores)\n",
    "scores_df.head()"
   ]
  },
  {
   "cell_type": "markdown",
   "metadata": {},
   "source": [
    "### Refilter to remove accidentally introduced TRP\n",
    "Could use `if row[\"final_sequence\"].count(\"AAA\") < 2:` to remove polyALA"
   ]
  },
  {
   "cell_type": "code",
   "execution_count": 3,
   "metadata": {},
   "outputs": [
    {
     "name": "stderr",
     "output_type": "stream",
     "text": [
      "12617it [00:01, 10135.84it/s]"
     ]
    },
    {
     "name": "stdout",
     "output_type": "stream",
     "text": [
      "before refiltering: 12617, after filtering: 12602\n"
     ]
    },
    {
     "name": "stderr",
     "output_type": "stream",
     "text": [
      "\n"
     ]
    },
    {
     "data": {
      "application/javascript": [
       "\n",
       "            setTimeout(function() {\n",
       "                var nbb_cell_id = 3;\n",
       "                var nbb_unformatted_code = \"idces = []\\nfor i, row in tqdm(scores_df.iterrows()):\\n    if row[\\\"final_sequence\\\"].count(\\\"W\\\") == 1:\\n        idces.append(i)\\n\\none_trp = scores_df.loc[idces]\\nprint(f\\\"before refiltering: {len(scores_df)}, after filtering: {len(one_trp)}\\\")\";\n",
       "                var nbb_formatted_code = \"idces = []\\nfor i, row in tqdm(scores_df.iterrows()):\\n    if row[\\\"final_sequence\\\"].count(\\\"W\\\") == 1:\\n        idces.append(i)\\n\\none_trp = scores_df.loc[idces]\\nprint(f\\\"before refiltering: {len(scores_df)}, after filtering: {len(one_trp)}\\\")\";\n",
       "                var nbb_cells = Jupyter.notebook.get_cells();\n",
       "                for (var i = 0; i < nbb_cells.length; ++i) {\n",
       "                    if (nbb_cells[i].input_prompt_number == nbb_cell_id) {\n",
       "                        if (nbb_cells[i].get_text() == nbb_unformatted_code) {\n",
       "                             nbb_cells[i].set_text(nbb_formatted_code);\n",
       "                        }\n",
       "                        break;\n",
       "                    }\n",
       "                }\n",
       "            }, 500);\n",
       "            "
      ],
      "text/plain": [
       "<IPython.core.display.Javascript object>"
      ]
     },
     "metadata": {},
     "output_type": "display_data"
    }
   ],
   "source": [
    "idces = []\n",
    "for i, row in tqdm(scores_df.iterrows()):\n",
    "    if row[\"final_sequence\"].count(\"W\") == 1:\n",
    "        idces.append(i)\n",
    "\n",
    "one_trp = scores_df.loc[idces]\n",
    "print(f\"before refiltering: {len(scores_df)}, after filtering: {len(one_trp)}\")"
   ]
  },
  {
   "cell_type": "markdown",
   "metadata": {},
   "source": [
    "### Make a list of state Y's to fold with AF2"
   ]
  },
  {
   "cell_type": "code",
   "execution_count": 4,
   "metadata": {},
   "outputs": [
    {
     "data": {
      "application/javascript": [
       "\n",
       "            setTimeout(function() {\n",
       "                var nbb_cell_id = 4;\n",
       "                var nbb_unformatted_code = \"with open(os.path.join(os.getcwd(), \\\"06_cleanup\\\", \\\"1trp_refiltered_Y.list\\\"), \\\"w\\\") as f:\\n    for i in one_trp.Y_path.values:\\n        print(i, file=f)\";\n",
       "                var nbb_formatted_code = \"with open(os.path.join(os.getcwd(), \\\"06_cleanup\\\", \\\"1trp_refiltered_Y.list\\\"), \\\"w\\\") as f:\\n    for i in one_trp.Y_path.values:\\n        print(i, file=f)\";\n",
       "                var nbb_cells = Jupyter.notebook.get_cells();\n",
       "                for (var i = 0; i < nbb_cells.length; ++i) {\n",
       "                    if (nbb_cells[i].input_prompt_number == nbb_cell_id) {\n",
       "                        if (nbb_cells[i].get_text() == nbb_unformatted_code) {\n",
       "                             nbb_cells[i].set_text(nbb_formatted_code);\n",
       "                        }\n",
       "                        break;\n",
       "                    }\n",
       "                }\n",
       "            }, 500);\n",
       "            "
      ],
      "text/plain": [
       "<IPython.core.display.Javascript object>"
      ]
     },
     "metadata": {},
     "output_type": "display_data"
    }
   ],
   "source": [
    "with open(os.path.join(os.getcwd(), \"06_cleanup\", \"1trp_refiltered_Y.list\"), \"w\") as f:\n",
    "    for i in one_trp.Y_path.values:\n",
    "        print(i, file=f)"
   ]
  },
  {
   "cell_type": "markdown",
   "metadata": {},
   "source": [
    "### Use AF2 to predict state Y's\n",
    "if those have low RMSD and form disulfides, predict state X's,  \n",
    "if those have low RMSD and form disulfides, predict state U's,  \n",
    "then check RMSD to the X and Y state"
   ]
  },
  {
   "cell_type": "code",
   "execution_count": 6,
   "metadata": {},
   "outputs": [
    {
     "name": "stderr",
     "output_type": "stream",
     "text": [
      "12602it [00:08, 1506.57it/s]"
     ]
    },
    {
     "name": "stdout",
     "output_type": "stream",
     "text": [
      "Run the following commands\n",
      "sbatch -a 1-$(cat '07_run_af2_state_Y_designs.cmds' | wc -l) '07_run_af2_state_Y_designs.sh'\n"
     ]
    },
    {
     "name": "stderr",
     "output_type": "stream",
     "text": [
      "\n"
     ]
    },
    {
     "data": {
      "application/javascript": [
       "\n",
       "            setTimeout(function() {\n",
       "                var nbb_cell_id = 6;\n",
       "                var nbb_unformatted_code = \"import os, stat, subprocess\\n\\n\\ndef create_tasks(selected):\\n    with open(selected, \\\"r\\\") as f:\\n        for file in f:\\n            tasks = {}\\n            path = file.rstrip()\\n            tasks[\\\"-s\\\"] = path\\n            yield tasks\\n\\n\\ndef file_len(file):\\n    \\\"\\\"\\\"https://stackoverflow.com/questions/845058/how-to-get-line-count-of-a-large-file-cheaply-in-python\\\"\\\"\\\"\\n    with open(file) as f:\\n        for i, l in enumerate(f):\\n            pass\\n    return i + 1\\n\\n\\n# cleanup old cmdslists\\nfor cmdslist in glob(os.path.join(os.getcwd(), \\\"07_run*.cmds\\\")):\\n    os.remove(cmdslist)\\n\\n\\ninfer = os.path.join(os.getcwd(), \\\"run_af2_design_pdb.py\\\")\\n\\njid = \\\"{SLURM_JOB_ID%;*}\\\"\\nsid = \\\"{SLURM_ARRAY_TASK_ID}p\\\"\\n\\nfor designs, mem, queue in [(\\\"state_Y\\\", \\\"10\\\", \\\"short\\\")]:\\n    targets = os.path.join(os.getcwd(), f\\\"06_cleanup/1trp_refiltered_Y.list\\\")\\n    for i, tasks in enumerate(tqdm(create_tasks(targets))):\\n        if os.path.isfile(tasks[\\\"-s\\\"].replace(\\\".pdb\\\", \\\".json\\\")):\\n            continue\\n        else:\\n            pass\\n        tasklist = f\\\"07_run_af2_{designs}_designs.cmds\\\"\\n        gpu = \\\"\\\"\\n        queue = queue\\n        core_mem = f\\\"#SBATCH --mem={mem}G \\\\n\\\"\\n        run_sh = \\\"\\\"\\\"#!/usr/bin/env bash \\\\n#SBATCH -J inference \\\\n#SBATCH -e /mnt/home/pleung/logs/slurm_logs/infer-%J.err \\\\n#SBATCH -o /mnt/home/pleung/logs/slurm_logs/infer-%J.out \\\\n#SBATCH -p {queue} \\\\n{gpu}{core_mem}\\\\nJOB_ID=${jid} \\\\nCMD=$(sed -n \\\"${sid}\\\" {tasklist}) \\\\necho \\\"${c}\\\" | bash\\\"\\\"\\\".format(\\n            queue=queue,\\n            gpu=gpu,\\n            core_mem=core_mem,\\n            jid=jid,\\n            sid=sid,\\n            tasklist=tasklist,\\n            c=\\\"{CMD}\\\",\\n        )\\n        shell = f\\\"07_run_af2_{designs}_designs.sh\\\"\\n        with open(shell, \\\"w+\\\") as f:\\n            print(run_sh, file=f)\\n        st = os.stat(shell)\\n        os.chmod(shell, st.st_mode | stat.S_IEXEC)\\n        with open(tasklist, \\\"a+\\\") as f:\\n            args_ = \\\" \\\".join([\\\" \\\".join([k, str(v)]) for k, v in tasks.items()])\\n            cmd = f\\\"{infer} {args_} --save_pdbs\\\"\\n            print(cmd, file=f)\\n\\n# Let's go\\nprint(\\\"Run the following commands\\\")\\nfor i in \\\"state_Y\\\".split():\\n    print(\\n        f\\\"sbatch -a 1-$(cat '07_run_af2_{i}_designs.cmds' | wc -l) '07_run_af2_{i}_designs.sh'\\\"\\n    )\";\n",
       "                var nbb_formatted_code = \"import os, stat, subprocess\\n\\n\\ndef create_tasks(selected):\\n    with open(selected, \\\"r\\\") as f:\\n        for file in f:\\n            tasks = {}\\n            path = file.rstrip()\\n            tasks[\\\"-s\\\"] = path\\n            yield tasks\\n\\n\\ndef file_len(file):\\n    \\\"\\\"\\\"https://stackoverflow.com/questions/845058/how-to-get-line-count-of-a-large-file-cheaply-in-python\\\"\\\"\\\"\\n    with open(file) as f:\\n        for i, l in enumerate(f):\\n            pass\\n    return i + 1\\n\\n\\n# cleanup old cmdslists\\nfor cmdslist in glob(os.path.join(os.getcwd(), \\\"07_run*.cmds\\\")):\\n    os.remove(cmdslist)\\n\\n\\ninfer = os.path.join(os.getcwd(), \\\"run_af2_design_pdb.py\\\")\\n\\njid = \\\"{SLURM_JOB_ID%;*}\\\"\\nsid = \\\"{SLURM_ARRAY_TASK_ID}p\\\"\\n\\nfor designs, mem, queue in [(\\\"state_Y\\\", \\\"10\\\", \\\"short\\\")]:\\n    targets = os.path.join(os.getcwd(), f\\\"06_cleanup/1trp_refiltered_Y.list\\\")\\n    for i, tasks in enumerate(tqdm(create_tasks(targets))):\\n        if os.path.isfile(tasks[\\\"-s\\\"].replace(\\\".pdb\\\", \\\".json\\\")):\\n            continue\\n        else:\\n            pass\\n        tasklist = f\\\"07_run_af2_{designs}_designs.cmds\\\"\\n        gpu = \\\"\\\"\\n        queue = queue\\n        core_mem = f\\\"#SBATCH --mem={mem}G \\\\n\\\"\\n        run_sh = \\\"\\\"\\\"#!/usr/bin/env bash \\\\n#SBATCH -J inference \\\\n#SBATCH -e /mnt/home/pleung/logs/slurm_logs/infer-%J.err \\\\n#SBATCH -o /mnt/home/pleung/logs/slurm_logs/infer-%J.out \\\\n#SBATCH -p {queue} \\\\n{gpu}{core_mem}\\\\nJOB_ID=${jid} \\\\nCMD=$(sed -n \\\"${sid}\\\" {tasklist}) \\\\necho \\\"${c}\\\" | bash\\\"\\\"\\\".format(\\n            queue=queue,\\n            gpu=gpu,\\n            core_mem=core_mem,\\n            jid=jid,\\n            sid=sid,\\n            tasklist=tasklist,\\n            c=\\\"{CMD}\\\",\\n        )\\n        shell = f\\\"07_run_af2_{designs}_designs.sh\\\"\\n        with open(shell, \\\"w+\\\") as f:\\n            print(run_sh, file=f)\\n        st = os.stat(shell)\\n        os.chmod(shell, st.st_mode | stat.S_IEXEC)\\n        with open(tasklist, \\\"a+\\\") as f:\\n            args_ = \\\" \\\".join([\\\" \\\".join([k, str(v)]) for k, v in tasks.items()])\\n            cmd = f\\\"{infer} {args_} --save_pdbs\\\"\\n            print(cmd, file=f)\\n\\n# Let's go\\nprint(\\\"Run the following commands\\\")\\nfor i in \\\"state_Y\\\".split():\\n    print(\\n        f\\\"sbatch -a 1-$(cat '07_run_af2_{i}_designs.cmds' | wc -l) '07_run_af2_{i}_designs.sh'\\\"\\n    )\";\n",
       "                var nbb_cells = Jupyter.notebook.get_cells();\n",
       "                for (var i = 0; i < nbb_cells.length; ++i) {\n",
       "                    if (nbb_cells[i].input_prompt_number == nbb_cell_id) {\n",
       "                        if (nbb_cells[i].get_text() == nbb_unformatted_code) {\n",
       "                             nbb_cells[i].set_text(nbb_formatted_code);\n",
       "                        }\n",
       "                        break;\n",
       "                    }\n",
       "                }\n",
       "            }, 500);\n",
       "            "
      ],
      "text/plain": [
       "<IPython.core.display.Javascript object>"
      ]
     },
     "metadata": {},
     "output_type": "display_data"
    }
   ],
   "source": [
    "import os, stat, subprocess\n",
    "\n",
    "\n",
    "def create_tasks(selected):\n",
    "    with open(selected, \"r\") as f:\n",
    "        for file in f:\n",
    "            tasks = {}\n",
    "            path = file.rstrip()\n",
    "            tasks[\"-s\"] = path\n",
    "            yield tasks\n",
    "\n",
    "\n",
    "def file_len(file):\n",
    "    \"\"\"https://stackoverflow.com/questions/845058/how-to-get-line-count-of-a-large-file-cheaply-in-python\"\"\"\n",
    "    with open(file) as f:\n",
    "        for i, l in enumerate(f):\n",
    "            pass\n",
    "    return i + 1\n",
    "\n",
    "\n",
    "# cleanup old cmdslists\n",
    "for cmdslist in glob(os.path.join(os.getcwd(), \"07_run*.cmds\")):\n",
    "    os.remove(cmdslist)\n",
    "\n",
    "\n",
    "infer = os.path.join(os.getcwd(), \"run_af2_design_pdb.py\")\n",
    "\n",
    "jid = \"{SLURM_JOB_ID%;*}\"\n",
    "sid = \"{SLURM_ARRAY_TASK_ID}p\"\n",
    "\n",
    "for designs, mem, queue in [(\"state_Y\", \"10\", \"short\")]:\n",
    "    targets = os.path.join(os.getcwd(), f\"06_cleanup/1trp_refiltered_Y.list\")\n",
    "    for i, tasks in enumerate(tqdm(create_tasks(targets))):\n",
    "        if os.path.isfile(tasks[\"-s\"].replace(\".pdb\", \".json\")):\n",
    "            continue\n",
    "        else:\n",
    "            pass\n",
    "        tasklist = f\"07_run_af2_{designs}_designs.cmds\"\n",
    "        gpu = \"\"\n",
    "        queue = queue\n",
    "        core_mem = f\"#SBATCH --mem={mem}G \\n\"\n",
    "        run_sh = \"\"\"#!/usr/bin/env bash \\n#SBATCH -J inference \\n#SBATCH -e /mnt/home/pleung/logs/slurm_logs/infer-%J.err \\n#SBATCH -o /mnt/home/pleung/logs/slurm_logs/infer-%J.out \\n#SBATCH -p {queue} \\n{gpu}{core_mem}\\nJOB_ID=${jid} \\nCMD=$(sed -n \"${sid}\" {tasklist}) \\necho \"${c}\" | bash\"\"\".format(\n",
    "            queue=queue,\n",
    "            gpu=gpu,\n",
    "            core_mem=core_mem,\n",
    "            jid=jid,\n",
    "            sid=sid,\n",
    "            tasklist=tasklist,\n",
    "            c=\"{CMD}\",\n",
    "        )\n",
    "        shell = f\"07_run_af2_{designs}_designs.sh\"\n",
    "        with open(shell, \"w+\") as f:\n",
    "            print(run_sh, file=f)\n",
    "        st = os.stat(shell)\n",
    "        os.chmod(shell, st.st_mode | stat.S_IEXEC)\n",
    "        with open(tasklist, \"a+\") as f:\n",
    "            args_ = \" \".join([\" \".join([k, str(v)]) for k, v in tasks.items()])\n",
    "            cmd = f\"{infer} {args_} --save_pdbs\"\n",
    "            print(cmd, file=f)\n",
    "\n",
    "# Let's go\n",
    "print(\"Run the following commands\")\n",
    "for i in \"state_Y\".split():\n",
    "    print(\n",
    "        f\"sbatch -a 1-$(cat '07_run_af2_{i}_designs.cmds' | wc -l) '07_run_af2_{i}_designs.sh'\"\n",
    "    )"
   ]
  },
  {
   "cell_type": "code",
   "execution_count": 7,
   "metadata": {},
   "outputs": [
    {
     "name": "stdout",
     "output_type": "stream",
     "text": [
      "Submitted batch job 33883768\n"
     ]
    },
    {
     "data": {
      "application/javascript": [
       "\n",
       "            setTimeout(function() {\n",
       "                var nbb_cell_id = 7;\n",
       "                var nbb_unformatted_code = \"!sbatch -a 1-$(cat '07_run_af2_state_Y_designs.cmds' | wc -l) '07_run_af2_state_Y_designs.sh'\";\n",
       "                var nbb_formatted_code = \"!sbatch -a 1-$(cat '07_run_af2_state_Y_designs.cmds' | wc -l) '07_run_af2_state_Y_designs.sh'\";\n",
       "                var nbb_cells = Jupyter.notebook.get_cells();\n",
       "                for (var i = 0; i < nbb_cells.length; ++i) {\n",
       "                    if (nbb_cells[i].input_prompt_number == nbb_cell_id) {\n",
       "                        if (nbb_cells[i].get_text() == nbb_unformatted_code) {\n",
       "                             nbb_cells[i].set_text(nbb_formatted_code);\n",
       "                        }\n",
       "                        break;\n",
       "                    }\n",
       "                }\n",
       "            }, 500);\n",
       "            "
      ],
      "text/plain": [
       "<IPython.core.display.Javascript object>"
      ]
     },
     "metadata": {},
     "output_type": "display_data"
    }
   ],
   "source": [
    "!sbatch -a 1-$(cat '07_run_af2_state_Y_designs.cmds' | wc -l) '07_run_af2_state_Y_designs.sh'"
   ]
  },
  {
   "cell_type": "markdown",
   "metadata": {},
   "source": [
    "### Now need to retrieve the JSONs containing scores for the AF2 inference runs"
   ]
  },
  {
   "cell_type": "code",
   "execution_count": 2,
   "metadata": {},
   "outputs": [
    {
     "name": "stdout",
     "output_type": "stream",
     "text": [
      "reading 12496 runs\n"
     ]
    },
    {
     "name": "stderr",
     "output_type": "stream",
     "text": [
      "100%|██████████| 12496/12496 [22:30<00:00,  9.25it/s]\n"
     ]
    },
    {
     "name": "stdout",
     "output_type": "stream",
     "text": [
      "CPU times: user 19min 37s, sys: 26.7 s, total: 20min 4s\n",
      "Wall time: 22min 37s\n"
     ]
    },
    {
     "data": {
      "application/javascript": [
       "\n",
       "            setTimeout(function() {\n",
       "                var nbb_cell_id = 2;\n",
       "                var nbb_unformatted_code = \"%%time\\nimport json, time\\n\\n\\noutput_path = os.path.join(os.getcwd(), \\\"06_states\\\")\\noutput_paths = glob(os.path.join(output_path, \\\"*/*.json\\\"))\\nprint(f\\\"reading {len(output_paths)} runs\\\")\\ntime.sleep(0.5)\\nscores = {}\\nfor path in tqdm(output_paths):\\n    pdb = path.replace(\\\"json\\\", \\\"pdb\\\")\\n    key = f\\\"{pdb}\\\"\\n    with open(path, \\\"r\\\") as f:\\n        try:\\n            values_dict = json.load(f)\\n            values = {}\\n            for model, results in values_dict.items():\\n                results.pop(\\\"pae\\\") # pae is too big?\\n                for name, result in results.items():\\n                    values[name+\\\"_\\\"+model] = result\\n            del values_dict\\n        except:\\n            print(path)\\n    scores[key] = values\\nscores_df = pd.DataFrame(scores)\\nscores_df = scores_df.T\\noutput_file = os.path.join(output_path, \\\"scores.json\\\")\\nscores_df.to_json(output_file)\";\n",
       "                var nbb_formatted_code = \"%%time\\nimport json, time\\n\\n\\noutput_path = os.path.join(os.getcwd(), \\\"06_states\\\")\\noutput_paths = glob(os.path.join(output_path, \\\"*/*.json\\\"))\\nprint(f\\\"reading {len(output_paths)} runs\\\")\\ntime.sleep(0.5)\\nscores = {}\\nfor path in tqdm(output_paths):\\n    pdb = path.replace(\\\"json\\\", \\\"pdb\\\")\\n    key = f\\\"{pdb}\\\"\\n    with open(path, \\\"r\\\") as f:\\n        try:\\n            values_dict = json.load(f)\\n            values = {}\\n            for model, results in values_dict.items():\\n                results.pop(\\\"pae\\\") # pae is too big?\\n                for name, result in results.items():\\n                    values[name+\\\"_\\\"+model] = result\\n            del values_dict\\n        except:\\n            print(path)\\n    scores[key] = values\\nscores_df = pd.DataFrame(scores)\\nscores_df = scores_df.T\\noutput_file = os.path.join(output_path, \\\"scores.json\\\")\\nscores_df.to_json(output_file)\";\n",
       "                var nbb_cells = Jupyter.notebook.get_cells();\n",
       "                for (var i = 0; i < nbb_cells.length; ++i) {\n",
       "                    if (nbb_cells[i].input_prompt_number == nbb_cell_id) {\n",
       "                        if (nbb_cells[i].get_text() == nbb_unformatted_code) {\n",
       "                             nbb_cells[i].set_text(nbb_formatted_code);\n",
       "                        }\n",
       "                        break;\n",
       "                    }\n",
       "                }\n",
       "            }, 500);\n",
       "            "
      ],
      "text/plain": [
       "<IPython.core.display.Javascript object>"
      ]
     },
     "metadata": {},
     "output_type": "display_data"
    }
   ],
   "source": [
    "%%time\n",
    "import json, time\n",
    "\n",
    "\n",
    "output_path = os.path.join(os.getcwd(), \"06_states\")\n",
    "output_paths = glob(os.path.join(output_path, \"*/*.json\"))\n",
    "print(f\"reading {len(output_paths)} runs\")\n",
    "time.sleep(0.5)\n",
    "scores = {}\n",
    "for path in tqdm(output_paths):\n",
    "    pdb = path.replace(\"json\", \"pdb\")\n",
    "    key = f\"{pdb}\"\n",
    "    with open(path, \"r\") as f:\n",
    "        try:\n",
    "            values_dict = json.load(f)\n",
    "            values = {}\n",
    "            for model, results in values_dict.items():\n",
    "                results.pop(\"pae\") # pae is too big?\n",
    "                for name, result in results.items():\n",
    "                    values[name+\"_\"+model] = result\n",
    "            del values_dict\n",
    "        except:\n",
    "            print(path)\n",
    "    scores[key] = values\n",
    "scores_df = pd.DataFrame(scores)\n",
    "scores_df = scores_df.T\n",
    "output_file = os.path.join(output_path, \"scores.json\")\n",
    "scores_df.to_json(output_file)"
   ]
  },
  {
   "cell_type": "markdown",
   "metadata": {},
   "source": [
    "### Add additional columns incorporating metadata from best decoy by plDDT"
   ]
  },
  {
   "cell_type": "code",
   "execution_count": 15,
   "metadata": {},
   "outputs": [
    {
     "name": "stderr",
     "output_type": "stream",
     "text": [
      "100%|██████████| 6/6 [00:02<00:00,  2.38it/s]\n"
     ]
    },
    {
     "data": {
      "application/javascript": [
       "\n",
       "            setTimeout(function() {\n",
       "                var nbb_cell_id = 15;\n",
       "                var nbb_unformatted_code = \"def row2best_model(\\n    row: pd.Series,\\n) -> str:\\n    best_model = \\\"1\\\"\\n    for model in \\\"2345\\\":\\n        if (\\n            row[f\\\"average_plddts_model_{model}\\\"]\\n            > row[f\\\"average_plddts_model_{best_model}\\\"]\\n        ):\\n            best_model = model\\n        else:\\n            pass\\n    return best_model\\n\\n\\ndef row2best_metadata(row: pd.Series, **kwargs) -> float:\\n    best_model = row[\\\"best_model\\\"]\\n    best_average_metadata = row[f\\\"{key}_model_{best_model}\\\"]\\n    return best_average_metadata\\n\\n\\ndef row2lowest_rmsd_model(\\n    row: pd.Series,\\n) -> str:\\n    lowest_rmsd_model = \\\"1\\\"\\n    for model in \\\"2345\\\":\\n        if (\\n            row[f\\\"rmsd_to_input_model_{model}\\\"]\\n            < row[f\\\"rmsd_to_input_model_{lowest_rmsd_model}\\\"]\\n        ):\\n            lowest_rmsd_model = model\\n        else:\\n            pass\\n    return lowest_rmsd_model\\n\\n\\ndef row2lowest_rmsd__metadata(row: pd.Series, **kwargs) -> float:\\n    lowest_rmsd_model = row[\\\"lowest_rmsd_model\\\"]\\n    lowest_rmsd_metadata = row[f\\\"{key}_model_{lowest_rmsd_model}\\\"]\\n    return lowest_rmsd_metadata\\n\\n\\ndef row2plddt_rmsd_agree(row: pd.Series) -> bool:\\n    if row[\\\"best_model\\\"] == row[\\\"lowest_rmsd_model\\\"]:\\n        return True\\n    else:\\n        return False\\n\\n\\nscores_df[\\\"best_model\\\"] = scores_df.apply(row2best_model, axis=1)\\nscores_df[\\\"lowest_rmsd_model\\\"] = scores_df.apply(row2lowest_rmsd_model, axis=1)\\nfor key in tqdm(\\n    \\\"average_plddts plddt ptm rmsd_to_input average_DAN_plddts DAN_plddt\\\".split()\\n):\\n    scores_df[f\\\"best_{key}\\\"] = scores_df.apply(\\n        row2best_metadata, kwargs={\\\"key\\\": key}, axis=1\\n    )\\n    scores_df[f\\\"lowest_rmsd_{key}\\\"] = scores_df.apply(\\n        row2lowest_rmsd__metadata, kwargs={\\\"key\\\": key}, axis=1\\n    )\\nscores_df[\\\"plddt_rmsd_agree\\\"] = scores_df.apply(row2plddt_rmsd_agree, axis=1)\";\n",
       "                var nbb_formatted_code = \"def row2best_model(\\n    row: pd.Series,\\n) -> str:\\n    best_model = \\\"1\\\"\\n    for model in \\\"2345\\\":\\n        if (\\n            row[f\\\"average_plddts_model_{model}\\\"]\\n            > row[f\\\"average_plddts_model_{best_model}\\\"]\\n        ):\\n            best_model = model\\n        else:\\n            pass\\n    return best_model\\n\\n\\ndef row2best_metadata(row: pd.Series, **kwargs) -> float:\\n    best_model = row[\\\"best_model\\\"]\\n    best_average_metadata = row[f\\\"{key}_model_{best_model}\\\"]\\n    return best_average_metadata\\n\\n\\ndef row2lowest_rmsd_model(\\n    row: pd.Series,\\n) -> str:\\n    lowest_rmsd_model = \\\"1\\\"\\n    for model in \\\"2345\\\":\\n        if (\\n            row[f\\\"rmsd_to_input_model_{model}\\\"]\\n            < row[f\\\"rmsd_to_input_model_{lowest_rmsd_model}\\\"]\\n        ):\\n            lowest_rmsd_model = model\\n        else:\\n            pass\\n    return lowest_rmsd_model\\n\\n\\ndef row2lowest_rmsd__metadata(row: pd.Series, **kwargs) -> float:\\n    lowest_rmsd_model = row[\\\"lowest_rmsd_model\\\"]\\n    lowest_rmsd_metadata = row[f\\\"{key}_model_{lowest_rmsd_model}\\\"]\\n    return lowest_rmsd_metadata\\n\\n\\ndef row2plddt_rmsd_agree(row: pd.Series) -> bool:\\n    if row[\\\"best_model\\\"] == row[\\\"lowest_rmsd_model\\\"]:\\n        return True\\n    else:\\n        return False\\n\\n\\nscores_df[\\\"best_model\\\"] = scores_df.apply(row2best_model, axis=1)\\nscores_df[\\\"lowest_rmsd_model\\\"] = scores_df.apply(row2lowest_rmsd_model, axis=1)\\nfor key in tqdm(\\n    \\\"average_plddts plddt ptm rmsd_to_input average_DAN_plddts DAN_plddt\\\".split()\\n):\\n    scores_df[f\\\"best_{key}\\\"] = scores_df.apply(\\n        row2best_metadata, kwargs={\\\"key\\\": key}, axis=1\\n    )\\n    scores_df[f\\\"lowest_rmsd_{key}\\\"] = scores_df.apply(\\n        row2lowest_rmsd__metadata, kwargs={\\\"key\\\": key}, axis=1\\n    )\\nscores_df[\\\"plddt_rmsd_agree\\\"] = scores_df.apply(row2plddt_rmsd_agree, axis=1)\";\n",
       "                var nbb_cells = Jupyter.notebook.get_cells();\n",
       "                for (var i = 0; i < nbb_cells.length; ++i) {\n",
       "                    if (nbb_cells[i].input_prompt_number == nbb_cell_id) {\n",
       "                        if (nbb_cells[i].get_text() == nbb_unformatted_code) {\n",
       "                             nbb_cells[i].set_text(nbb_formatted_code);\n",
       "                        }\n",
       "                        break;\n",
       "                    }\n",
       "                }\n",
       "            }, 500);\n",
       "            "
      ],
      "text/plain": [
       "<IPython.core.display.Javascript object>"
      ]
     },
     "metadata": {},
     "output_type": "display_data"
    }
   ],
   "source": [
    "def row2best_model(\n",
    "    row: pd.Series,\n",
    ") -> str:\n",
    "    best_model = \"1\"\n",
    "    for model in \"2345\":\n",
    "        if (\n",
    "            row[f\"average_plddts_model_{model}\"]\n",
    "            > row[f\"average_plddts_model_{best_model}\"]\n",
    "        ):\n",
    "            best_model = model\n",
    "        else:\n",
    "            pass\n",
    "    return best_model\n",
    "\n",
    "\n",
    "def row2best_metadata(row: pd.Series, **kwargs) -> float:\n",
    "    best_model = row[\"best_model\"]\n",
    "    best_average_metadata = row[f\"{key}_model_{best_model}\"]\n",
    "    return best_average_metadata\n",
    "\n",
    "\n",
    "def row2lowest_rmsd_model(\n",
    "    row: pd.Series,\n",
    ") -> str:\n",
    "    lowest_rmsd_model = \"1\"\n",
    "    for model in \"2345\":\n",
    "        if (\n",
    "            row[f\"rmsd_to_input_model_{model}\"]\n",
    "            < row[f\"rmsd_to_input_model_{lowest_rmsd_model}\"]\n",
    "        ):\n",
    "            lowest_rmsd_model = model\n",
    "        else:\n",
    "            pass\n",
    "    return lowest_rmsd_model\n",
    "\n",
    "\n",
    "def row2lowest_rmsd__metadata(row: pd.Series, **kwargs) -> float:\n",
    "    lowest_rmsd_model = row[\"lowest_rmsd_model\"]\n",
    "    lowest_rmsd_metadata = row[f\"{key}_model_{lowest_rmsd_model}\"]\n",
    "    return lowest_rmsd_metadata\n",
    "\n",
    "\n",
    "def row2plddt_rmsd_agree(row: pd.Series) -> bool:\n",
    "    if row[\"best_model\"] == row[\"lowest_rmsd_model\"]:\n",
    "        return True\n",
    "    else:\n",
    "        return False\n",
    "\n",
    "\n",
    "scores_df[\"best_model\"] = scores_df.apply(row2best_model, axis=1)\n",
    "scores_df[\"lowest_rmsd_model\"] = scores_df.apply(row2lowest_rmsd_model, axis=1)\n",
    "for key in tqdm(\n",
    "    \"average_plddts plddt ptm rmsd_to_input average_DAN_plddts DAN_plddt\".split()\n",
    "):\n",
    "    scores_df[f\"best_{key}\"] = scores_df.apply(\n",
    "        row2best_metadata, kwargs={\"key\": key}, axis=1\n",
    "    )\n",
    "    scores_df[f\"lowest_rmsd_{key}\"] = scores_df.apply(\n",
    "        row2lowest_rmsd__metadata, kwargs={\"key\": key}, axis=1\n",
    "    )\n",
    "scores_df[\"plddt_rmsd_agree\"] = scores_df.apply(row2plddt_rmsd_agree, axis=1)"
   ]
  },
  {
   "cell_type": "markdown",
   "metadata": {},
   "source": [
    "### Dump df as json"
   ]
  },
  {
   "cell_type": "code",
   "execution_count": 32,
   "metadata": {},
   "outputs": [
    {
     "data": {
      "application/javascript": [
       "\n",
       "            setTimeout(function() {\n",
       "                var nbb_cell_id = 32;\n",
       "                var nbb_unformatted_code = \"output_path = os.path.join(os.getcwd(), \\\"06_states\\\")\\noutput_file = os.path.join(output_path, \\\"scores.json\\\")\\nscores_df.to_json(output_file)\";\n",
       "                var nbb_formatted_code = \"output_path = os.path.join(os.getcwd(), \\\"06_states\\\")\\noutput_file = os.path.join(output_path, \\\"scores.json\\\")\\nscores_df.to_json(output_file)\";\n",
       "                var nbb_cells = Jupyter.notebook.get_cells();\n",
       "                for (var i = 0; i < nbb_cells.length; ++i) {\n",
       "                    if (nbb_cells[i].input_prompt_number == nbb_cell_id) {\n",
       "                        if (nbb_cells[i].get_text() == nbb_unformatted_code) {\n",
       "                             nbb_cells[i].set_text(nbb_formatted_code);\n",
       "                        }\n",
       "                        break;\n",
       "                    }\n",
       "                }\n",
       "            }, 500);\n",
       "            "
      ],
      "text/plain": [
       "<IPython.core.display.Javascript object>"
      ]
     },
     "metadata": {},
     "output_type": "display_data"
    }
   ],
   "source": [
    "output_path = os.path.join(os.getcwd(), \"06_states\")\n",
    "output_file = os.path.join(output_path, \"scores.json\")\n",
    "scores_df.to_json(output_file)"
   ]
  },
  {
   "cell_type": "markdown",
   "metadata": {},
   "source": [
    "### Reload df from disk"
   ]
  },
  {
   "cell_type": "code",
   "execution_count": 33,
   "metadata": {},
   "outputs": [
    {
     "data": {
      "application/javascript": [
       "\n",
       "            setTimeout(function() {\n",
       "                var nbb_cell_id = 33;\n",
       "                var nbb_unformatted_code = \"output_path = os.path.join(os.getcwd(), \\\"06_states\\\")\\noutput_file = os.path.join(output_path, \\\"scores.json\\\")\\nscores_df = pd.read_json(output_file)\";\n",
       "                var nbb_formatted_code = \"output_path = os.path.join(os.getcwd(), \\\"06_states\\\")\\noutput_file = os.path.join(output_path, \\\"scores.json\\\")\\nscores_df = pd.read_json(output_file)\";\n",
       "                var nbb_cells = Jupyter.notebook.get_cells();\n",
       "                for (var i = 0; i < nbb_cells.length; ++i) {\n",
       "                    if (nbb_cells[i].input_prompt_number == nbb_cell_id) {\n",
       "                        if (nbb_cells[i].get_text() == nbb_unformatted_code) {\n",
       "                             nbb_cells[i].set_text(nbb_formatted_code);\n",
       "                        }\n",
       "                        break;\n",
       "                    }\n",
       "                }\n",
       "            }, 500);\n",
       "            "
      ],
      "text/plain": [
       "<IPython.core.display.Javascript object>"
      ]
     },
     "metadata": {},
     "output_type": "display_data"
    }
   ],
   "source": [
    "output_path = os.path.join(os.getcwd(), \"06_states\")\n",
    "output_file = os.path.join(output_path, \"scores.json\")\n",
    "scores_df = pd.read_json(output_file)"
   ]
  },
  {
   "cell_type": "markdown",
   "metadata": {},
   "source": [
    "### Distribute metadata collection to cluster with dask and collect results"
   ]
  },
  {
   "cell_type": "code",
   "execution_count": 34,
   "metadata": {},
   "outputs": [
    {
     "name": "stdout",
     "output_type": "stream",
     "text": [
      "PyRosetta-4 2021 [Rosetta PyRosetta4.conda.linux.cxx11thread.serialization.CentOS.python38.Release 2021.27+release.7ce64884a77d606b7b667c363527acc846541030 2021-07-09T18:10:05] retrieved from: http://www.pyrosetta.org\n",
      "(C) Copyright Rosetta Commons Member Institutions. Created in JHU by Sergey Lyskov and PyRosetta Team.\n",
      "run the following from your local terminal:\n",
      "ssh -L 8000:localhost:8787 pleung@dig107\n",
      "#!/usr/bin/env bash\n",
      "\n",
      "#SBATCH -J dask-worker\n",
      "#SBATCH -e /mnt/home/pleung/logs/slurm_logs/dask-worker-%J.err\n",
      "#SBATCH -o /mnt/home/pleung/logs/slurm_logs/dask-worker-%J.out\n",
      "#SBATCH -p long\n",
      "#SBATCH -n 1\n",
      "#SBATCH --cpus-per-task=1\n",
      "#SBATCH --mem=2G\n",
      "#SBATCH -t 23:30:00\n",
      "\n",
      "JOB_ID=${SLURM_JOB_ID%;*}\n",
      "\n",
      "/home/pleung/.conda/envs/phil/bin/python -m distributed.cli.dask_worker tcp://172.16.131.211:44205 --nthreads 1 --memory-limit 1.86GiB --name name --nanny --death-timeout 120 --local-directory $TMPDIR/dask --lifetime 23h --lifetime-stagger 4m\n",
      "\n",
      "<Client: 'tcp://172.16.131.211:44205' processes=0 threads=0, memory=0 B>\n"
     ]
    },
    {
     "ename": "NameError",
     "evalue": "name 'collect_metadata' is not defined",
     "output_type": "error",
     "traceback": [
      "\u001b[0;31m---------------------------------------------------------------------------\u001b[0m",
      "\u001b[0;31mNameError\u001b[0m                                 Traceback (most recent call last)",
      "\u001b[0;32m<ipython-input-34-356a4165d7e9>\u001b[0m in \u001b[0;36m<module>\u001b[0;34m\u001b[0m\n\u001b[1;32m     42\u001b[0m             \u001b[0mprint\u001b[0m\u001b[0;34m(\u001b[0m\u001b[0mclient\u001b[0m\u001b[0;34m)\u001b[0m\u001b[0;34m\u001b[0m\u001b[0;34m\u001b[0m\u001b[0m\n\u001b[1;32m     43\u001b[0m             \u001b[0;32mfor\u001b[0m \u001b[0mpath\u001b[0m \u001b[0;32min\u001b[0m \u001b[0mglob\u001b[0m\u001b[0;34m(\u001b[0m\u001b[0;34m\"/net/shared/scaffolds/pre_scaffold_DB/*/*.pdb\"\u001b[0m\u001b[0;34m)\u001b[0m\u001b[0;34m:\u001b[0m\u001b[0;34m\u001b[0m\u001b[0;34m\u001b[0m\u001b[0m\n\u001b[0;32m---> 44\u001b[0;31m                 \u001b[0mfuture\u001b[0m \u001b[0;34m=\u001b[0m \u001b[0mclient\u001b[0m\u001b[0;34m.\u001b[0m\u001b[0msubmit\u001b[0m\u001b[0;34m(\u001b[0m\u001b[0mcollect_metadata\u001b[0m\u001b[0;34m,\u001b[0m \u001b[0mpath\u001b[0m\u001b[0;34m)\u001b[0m\u001b[0;34m\u001b[0m\u001b[0;34m\u001b[0m\u001b[0m\n\u001b[0m\u001b[1;32m     45\u001b[0m                 \u001b[0mfutures\u001b[0m\u001b[0;34m.\u001b[0m\u001b[0mappend\u001b[0m\u001b[0;34m(\u001b[0m\u001b[0mfuture\u001b[0m\u001b[0;34m)\u001b[0m\u001b[0;34m\u001b[0m\u001b[0;34m\u001b[0m\u001b[0m\n\u001b[1;32m     46\u001b[0m             \u001b[0;32mfor\u001b[0m \u001b[0mpending\u001b[0m \u001b[0;32min\u001b[0m \u001b[0mfutures\u001b[0m\u001b[0;34m:\u001b[0m\u001b[0;34m\u001b[0m\u001b[0;34m\u001b[0m\u001b[0m\n",
      "\u001b[0;31mNameError\u001b[0m: name 'collect_metadata' is not defined"
     ]
    },
    {
     "data": {
      "application/javascript": [
       "\n",
       "            setTimeout(function() {\n",
       "                var nbb_cell_id = 34;\n",
       "                var nbb_unformatted_code = \"from dask.distributed import Client\\nfrom dask_jobqueue import SLURMCluster\\nfrom glob import glob\\nimport logging\\nimport pwd\\n\\n\\npyrosetta.init()\\nprint(\\\"run the following from your local terminal:\\\")\\nprint(\\n    f\\\"ssh -L 8000:localhost:8787 {pwd.getpwuid(os.getuid()).pw_name}@{socket.gethostname()}\\\"\\n)\\n\\n\\nfutures = []\\nresults = {}\\n\\nif __name__ == \\\"__main__\\\":\\n    # configure SLURM cluster as a context manager\\n    with SLURMCluster(\\n        cores=1,\\n        processes=1,\\n        job_cpu=1,\\n        memory=\\\"2GB\\\",\\n        queue=\\\"long\\\",\\n        walltime=\\\"23:30:00\\\",\\n        death_timeout=120,\\n        local_directory=\\\"$TMPDIR/dask\\\",\\n        log_directory=\\\"/mnt/home/pleung/logs/slurm_logs\\\",\\n        extra=[\\\"--lifetime\\\", \\\"23h\\\", \\\"--lifetime-stagger\\\", \\\"4m\\\"],\\n    ) as cluster:\\n        print(cluster.job_script())\\n        # scale between 1-200 workers,\\n        cluster.adapt(\\n            minimum=1,\\n            maximum=200,\\n            wait_count=400,  # Number of consecutive times that a worker should be suggested for removal it is removed\\n            interval=\\\"5s\\\",  # Time between checks\\n        )\\n        # setup a client to interact with the cluster as a context manager\\n        with Client(cluster) as client:\\n            print(client)\\n            for path in glob(\\\"/net/shared/scaffolds/pre_scaffold_DB/*/*.pdb\\\"):\\n                future = client.submit(collect_metadata, path)\\n                futures.append(future)\\n            for pending in futures:\\n                result = pending.result()\\n                results[path](result)\";\n",
       "                var nbb_formatted_code = \"from dask.distributed import Client\\nfrom dask_jobqueue import SLURMCluster\\nfrom glob import glob\\nimport logging\\nimport pwd\\n\\n\\npyrosetta.init()\\nprint(\\\"run the following from your local terminal:\\\")\\nprint(\\n    f\\\"ssh -L 8000:localhost:8787 {pwd.getpwuid(os.getuid()).pw_name}@{socket.gethostname()}\\\"\\n)\\n\\n\\nfutures = []\\nresults = {}\\n\\nif __name__ == \\\"__main__\\\":\\n    # configure SLURM cluster as a context manager\\n    with SLURMCluster(\\n        cores=1,\\n        processes=1,\\n        job_cpu=1,\\n        memory=\\\"2GB\\\",\\n        queue=\\\"long\\\",\\n        walltime=\\\"23:30:00\\\",\\n        death_timeout=120,\\n        local_directory=\\\"$TMPDIR/dask\\\",\\n        log_directory=\\\"/mnt/home/pleung/logs/slurm_logs\\\",\\n        extra=[\\\"--lifetime\\\", \\\"23h\\\", \\\"--lifetime-stagger\\\", \\\"4m\\\"],\\n    ) as cluster:\\n        print(cluster.job_script())\\n        # scale between 1-200 workers,\\n        cluster.adapt(\\n            minimum=1,\\n            maximum=200,\\n            wait_count=400,  # Number of consecutive times that a worker should be suggested for removal it is removed\\n            interval=\\\"5s\\\",  # Time between checks\\n        )\\n        # setup a client to interact with the cluster as a context manager\\n        with Client(cluster) as client:\\n            print(client)\\n            for path in glob(\\\"/net/shared/scaffolds/pre_scaffold_DB/*/*.pdb\\\"):\\n                future = client.submit(collect_metadata, path)\\n                futures.append(future)\\n            for pending in futures:\\n                result = pending.result()\\n                results[path](result)\";\n",
       "                var nbb_cells = Jupyter.notebook.get_cells();\n",
       "                for (var i = 0; i < nbb_cells.length; ++i) {\n",
       "                    if (nbb_cells[i].input_prompt_number == nbb_cell_id) {\n",
       "                        if (nbb_cells[i].get_text() == nbb_unformatted_code) {\n",
       "                             nbb_cells[i].set_text(nbb_formatted_code);\n",
       "                        }\n",
       "                        break;\n",
       "                    }\n",
       "                }\n",
       "            }, 500);\n",
       "            "
      ],
      "text/plain": [
       "<IPython.core.display.Javascript object>"
      ]
     },
     "metadata": {},
     "output_type": "display_data"
    }
   ],
   "source": [
    "from dask.distributed import Client\n",
    "from dask_jobqueue import SLURMCluster\n",
    "from glob import glob\n",
    "import logging\n",
    "import pwd\n",
    "\n",
    "\n",
    "def distribute_get_dslf_fa13(pdb:str) -> float:\n",
    "    pyrosetta.init(\"-corrections:beta_nov16 true\")\n",
    "    sfxn = pyrosetta.get_fa_scorefxn()\n",
    "    pose = pyrosetta.io.pose_from_file(pdb)\n",
    "    sfxn.score(pose)\n",
    "    dslf_fa13 = pose.scores[\"dslf_fa13\"]\n",
    "    return dslf_fa13\n",
    "\n",
    "\n",
    "pyrosetta.init(\"-corrections:beta_nov16 true\")\n",
    "\n",
    "\n",
    "print(\"run the following from your local terminal:\")\n",
    "print(\n",
    "    f\"ssh -L 8000:localhost:8787 {pwd.getpwuid(os.getuid()).pw_name}@{socket.gethostname()}\"\n",
    ")\n",
    "\n",
    "subset = scores_df[scores_df[\"lowest_rmsd_rmsd_to_input\"] < 1.5]\n",
    "\n",
    "futures = {}\n",
    "results = {}\n",
    "\n",
    "if __name__ == \"__main__\":\n",
    "    # configure SLURM cluster as a context manager\n",
    "    with SLURMCluster(\n",
    "        cores=1,\n",
    "        processes=1,\n",
    "        job_cpu=1,\n",
    "        memory=\"2GB\",\n",
    "        queue=\"long\",\n",
    "        walltime=\"23:30:00\",\n",
    "        death_timeout=120,\n",
    "        local_directory=\"$TMPDIR/dask\",\n",
    "        log_directory=\"/mnt/home/pleung/logs/slurm_logs\",\n",
    "        extra=[\"--lifetime\", \"23h\", \"--lifetime-stagger\", \"4m\"],\n",
    "    ) as cluster:\n",
    "        print(cluster.job_script())\n",
    "        # scale between 1-200 workers,\n",
    "        cluster.adapt(\n",
    "            minimum=1,\n",
    "            maximum=200,\n",
    "            wait_count=400,  # Number of consecutive times that a worker should be suggested for removal it is removed\n",
    "            interval=\"5s\",  # Time between checks\n",
    "        )\n",
    "        # setup a client to interact with the cluster as a context manager\n",
    "        with Client(cluster) as client:\n",
    "            print(client)\n",
    "            for path in subset.index:\n",
    "                future = client.submit(collect_metadata, path)\n",
    "                futures[path] = future\n",
    "            for i, pending in futures:\n",
    "                result = pending.result()\n",
    "                results[path] = result"
   ]
  },
  {
   "cell_type": "code",
   "execution_count": null,
   "metadata": {},
   "outputs": [],
   "source": [
    "\n"
   ]
  },
  {
   "cell_type": "markdown",
   "metadata": {},
   "source": [
    "### Unused blocks"
   ]
  },
  {
   "cell_type": "markdown",
   "metadata": {},
   "source": [
    "### Setup for plotting"
   ]
  },
  {
   "cell_type": "code",
   "execution_count": 3,
   "metadata": {},
   "outputs": [
    {
     "data": {
      "application/javascript": [
       "\n",
       "            setTimeout(function() {\n",
       "                var nbb_cell_id = 3;\n",
       "                var nbb_unformatted_code = \"def rho(x, y, ax=None, **kwargs):\\n    \\\"\\\"\\\"Plot the correlation coefficient in the top left hand corner of a plot.\\n    https://stackoverflow.com/questions/50832204/show-correlation-values-in-pairplot-using-seaborn-in-python/50835066\\n    \\\"\\\"\\\"\\n    import scipy\\n\\n    r, _ = scipy.stats.pearsonr(x, y)\\n    ax = ax or plt.gca()\\n    # Unicode for lowercase rho (\\u03c1)\\n    rho = \\\"\\\\u03C1\\\"\\n    ax.annotate(f\\\"{rho} = {r:.2f}\\\", xy=(0.1, 0.9), xycoords=ax.transAxes)\\n\\n\\ndef plot_unity(xdata, ydata, **kwargs):\\n    \\\"\\\"\\\"https://stackoverflow.com/questions/48122019/how-can-i-plot-identity-lines-on-a-seaborn-pairplot\\\"\\\"\\\"\\n    xmin, ymin = (xdata.min(), ydata.min())\\n    xmax, ymax = (xdata.max(), ydata.max())\\n    xpoints = np.linspace(xmin, xmax, 100)\\n    ypoints = np.linspace(ymin, ymax, 100)\\n    plt.gca().plot(\\n        xpoints, ypoints, color=\\\"k\\\", marker=None, linestyle=\\\"--\\\", linewidth=4.0\\n    )\\n\\n\\ndef plot_unity_0(xdata, ydata, **kwargs):\\n    \\\"\\\"\\\"https://stackoverflow.com/questions/48122019/how-can-i-plot-identity-lines-on-a-seaborn-pairplot\\\"\\\"\\\"\\n    #     xmin, ymin = (xdata.min(), ydata.min())\\n    xmin, ymin = 0, 0\\n    xmax, ymax = (xdata.max(), ydata.max())\\n    xpoints = np.linspace(xmin, xmax, 100)\\n    ypoints = np.linspace(ymin, ymax, 100)\\n    plt.gca().plot(\\n        xpoints, ypoints, color=\\\"k\\\", marker=None, linestyle=\\\"--\\\", linewidth=4.0\\n    )\\n\\n\\nsns.set(\\n    context=\\\"talk\\\",\\n    font_scale=1.5,  # make the font larger; default is pretty small\\n    style=\\\"ticks\\\",  # make the background white with black lines\\n    palette=\\\"colorblind\\\",  # a color palette that is colorblind friendly!\\n)\\nfigs_dir = os.path.join(os.getcwd(), \\\"figs\\\")\\n\\nos.makedirs(figs_dir, exist_ok=True)\";\n",
       "                var nbb_formatted_code = \"def rho(x, y, ax=None, **kwargs):\\n    \\\"\\\"\\\"Plot the correlation coefficient in the top left hand corner of a plot.\\n    https://stackoverflow.com/questions/50832204/show-correlation-values-in-pairplot-using-seaborn-in-python/50835066\\n    \\\"\\\"\\\"\\n    import scipy\\n\\n    r, _ = scipy.stats.pearsonr(x, y)\\n    ax = ax or plt.gca()\\n    # Unicode for lowercase rho (\\u03c1)\\n    rho = \\\"\\\\u03C1\\\"\\n    ax.annotate(f\\\"{rho} = {r:.2f}\\\", xy=(0.1, 0.9), xycoords=ax.transAxes)\\n\\n\\ndef plot_unity(xdata, ydata, **kwargs):\\n    \\\"\\\"\\\"https://stackoverflow.com/questions/48122019/how-can-i-plot-identity-lines-on-a-seaborn-pairplot\\\"\\\"\\\"\\n    xmin, ymin = (xdata.min(), ydata.min())\\n    xmax, ymax = (xdata.max(), ydata.max())\\n    xpoints = np.linspace(xmin, xmax, 100)\\n    ypoints = np.linspace(ymin, ymax, 100)\\n    plt.gca().plot(\\n        xpoints, ypoints, color=\\\"k\\\", marker=None, linestyle=\\\"--\\\", linewidth=4.0\\n    )\\n\\n\\ndef plot_unity_0(xdata, ydata, **kwargs):\\n    \\\"\\\"\\\"https://stackoverflow.com/questions/48122019/how-can-i-plot-identity-lines-on-a-seaborn-pairplot\\\"\\\"\\\"\\n    #     xmin, ymin = (xdata.min(), ydata.min())\\n    xmin, ymin = 0, 0\\n    xmax, ymax = (xdata.max(), ydata.max())\\n    xpoints = np.linspace(xmin, xmax, 100)\\n    ypoints = np.linspace(ymin, ymax, 100)\\n    plt.gca().plot(\\n        xpoints, ypoints, color=\\\"k\\\", marker=None, linestyle=\\\"--\\\", linewidth=4.0\\n    )\\n\\n\\nsns.set(\\n    context=\\\"talk\\\",\\n    font_scale=1.5,  # make the font larger; default is pretty small\\n    style=\\\"ticks\\\",  # make the background white with black lines\\n    palette=\\\"colorblind\\\",  # a color palette that is colorblind friendly!\\n)\\nfigs_dir = os.path.join(os.getcwd(), \\\"figs\\\")\\n\\nos.makedirs(figs_dir, exist_ok=True)\";\n",
       "                var nbb_cells = Jupyter.notebook.get_cells();\n",
       "                for (var i = 0; i < nbb_cells.length; ++i) {\n",
       "                    if (nbb_cells[i].input_prompt_number == nbb_cell_id) {\n",
       "                        if (nbb_cells[i].get_text() == nbb_unformatted_code) {\n",
       "                             nbb_cells[i].set_text(nbb_formatted_code);\n",
       "                        }\n",
       "                        break;\n",
       "                    }\n",
       "                }\n",
       "            }, 500);\n",
       "            "
      ],
      "text/plain": [
       "<IPython.core.display.Javascript object>"
      ]
     },
     "metadata": {},
     "output_type": "display_data"
    }
   ],
   "source": [
    "def rho(x, y, ax=None, **kwargs):\n",
    "    \"\"\"Plot the correlation coefficient in the top left hand corner of a plot.\n",
    "    https://stackoverflow.com/questions/50832204/show-correlation-values-in-pairplot-using-seaborn-in-python/50835066\n",
    "    \"\"\"\n",
    "    import scipy\n",
    "\n",
    "    r, _ = scipy.stats.pearsonr(x, y)\n",
    "    ax = ax or plt.gca()\n",
    "    # Unicode for lowercase rho (ρ)\n",
    "    rho = \"\\u03C1\"\n",
    "    ax.annotate(f\"{rho} = {r:.2f}\", xy=(0.1, 0.9), xycoords=ax.transAxes)\n",
    "\n",
    "\n",
    "def plot_unity(xdata, ydata, **kwargs):\n",
    "    \"\"\"https://stackoverflow.com/questions/48122019/how-can-i-plot-identity-lines-on-a-seaborn-pairplot\"\"\"\n",
    "    xmin, ymin = (xdata.min(), ydata.min())\n",
    "    xmax, ymax = (xdata.max(), ydata.max())\n",
    "    xpoints = np.linspace(xmin, xmax, 100)\n",
    "    ypoints = np.linspace(ymin, ymax, 100)\n",
    "    plt.gca().plot(\n",
    "        xpoints, ypoints, color=\"k\", marker=None, linestyle=\"--\", linewidth=4.0\n",
    "    )\n",
    "\n",
    "\n",
    "def plot_unity_0(xdata, ydata, **kwargs):\n",
    "    \"\"\"https://stackoverflow.com/questions/48122019/how-can-i-plot-identity-lines-on-a-seaborn-pairplot\"\"\"\n",
    "    #     xmin, ymin = (xdata.min(), ydata.min())\n",
    "    xmin, ymin = 0, 0\n",
    "    xmax, ymax = (xdata.max(), ydata.max())\n",
    "    xpoints = np.linspace(xmin, xmax, 100)\n",
    "    ypoints = np.linspace(ymin, ymax, 100)\n",
    "    plt.gca().plot(\n",
    "        xpoints, ypoints, color=\"k\", marker=None, linestyle=\"--\", linewidth=4.0\n",
    "    )\n",
    "\n",
    "\n",
    "sns.set(\n",
    "    context=\"talk\",\n",
    "    font_scale=1.5,  # make the font larger; default is pretty small\n",
    "    style=\"ticks\",  # make the background white with black lines\n",
    "    palette=\"colorblind\",  # a color palette that is colorblind friendly!\n",
    ")\n",
    "figs_dir = os.path.join(os.getcwd(), \"figs\")\n",
    "\n",
    "os.makedirs(figs_dir, exist_ok=True)"
   ]
  },
  {
   "cell_type": "markdown",
   "metadata": {},
   "source": [
    "### Plot results"
   ]
  },
  {
   "cell_type": "code",
   "execution_count": 19,
   "metadata": {},
   "outputs": [
    {
     "data": {
      "text/plain": [
       "0.1925416133162612"
      ]
     },
     "execution_count": 19,
     "metadata": {},
     "output_type": "execute_result"
    },
    {
     "data": {
      "application/javascript": [
       "\n",
       "            setTimeout(function() {\n",
       "                var nbb_cell_id = 19;\n",
       "                var nbb_unformatted_code = \"sum(list(scores_df.plddt_rmsd_agree.values))/len(scores_df)\";\n",
       "                var nbb_formatted_code = \"sum(list(scores_df.plddt_rmsd_agree.values)) / len(scores_df)\";\n",
       "                var nbb_cells = Jupyter.notebook.get_cells();\n",
       "                for (var i = 0; i < nbb_cells.length; ++i) {\n",
       "                    if (nbb_cells[i].input_prompt_number == nbb_cell_id) {\n",
       "                        if (nbb_cells[i].get_text() == nbb_unformatted_code) {\n",
       "                             nbb_cells[i].set_text(nbb_formatted_code);\n",
       "                        }\n",
       "                        break;\n",
       "                    }\n",
       "                }\n",
       "            }, 500);\n",
       "            "
      ],
      "text/plain": [
       "<IPython.core.display.Javascript object>"
      ]
     },
     "metadata": {},
     "output_type": "display_data"
    }
   ],
   "source": [
    "sum(list(scores_df.plddt_rmsd_agree.values))/len(scores_df)"
   ]
  },
  {
   "cell_type": "code",
   "execution_count": 25,
   "metadata": {},
   "outputs": [
    {
     "data": {
      "text/plain": [
       "<AxesSubplot:xlabel='lowest_rmsd_rmsd_to_input', ylabel='lowest_rmsd_average_plddts'>"
      ]
     },
     "execution_count": 25,
     "metadata": {},
     "output_type": "execute_result"
    },
    {
     "data": {
      "image/png": "[encoded data removed]",
      "text/plain": [
       "<Figure size 1440x1440 with 1 Axes>"
      ]
     },
     "metadata": {
      "needs_background": "light"
     },
     "output_type": "display_data"
    },
    {
     "data": {
      "application/javascript": [
       "\n",
       "            setTimeout(function() {\n",
       "                var nbb_cell_id = 25;\n",
       "                var nbb_unformatted_code = \"fig = plt.figure(figsize=(20, 20), tight_layout=True)\\nsns.histplot(data=scores_df, x=\\\"lowest_rmsd_rmsd_to_input\\\", y=\\\"lowest_rmsd_average_plddts\\\", hue=\\\"lowest_rmsd_model\\\")\";\n",
       "                var nbb_formatted_code = \"fig = plt.figure(figsize=(20, 20), tight_layout=True)\\nsns.histplot(\\n    data=scores_df,\\n    x=\\\"lowest_rmsd_rmsd_to_input\\\",\\n    y=\\\"lowest_rmsd_average_plddts\\\",\\n    hue=\\\"lowest_rmsd_model\\\",\\n)\";\n",
       "                var nbb_cells = Jupyter.notebook.get_cells();\n",
       "                for (var i = 0; i < nbb_cells.length; ++i) {\n",
       "                    if (nbb_cells[i].input_prompt_number == nbb_cell_id) {\n",
       "                        if (nbb_cells[i].get_text() == nbb_unformatted_code) {\n",
       "                             nbb_cells[i].set_text(nbb_formatted_code);\n",
       "                        }\n",
       "                        break;\n",
       "                    }\n",
       "                }\n",
       "            }, 500);\n",
       "            "
      ],
      "text/plain": [
       "<IPython.core.display.Javascript object>"
      ]
     },
     "metadata": {},
     "output_type": "display_data"
    }
   ],
   "source": [
    "fig = plt.figure(figsize=(20, 20), tight_layout=True)\n",
    "sns.histplot(data=scores_df, x=\"lowest_rmsd_rmsd_to_input\", y=\"lowest_rmsd_average_plddts\", hue=\"lowest_rmsd_model\")"
   ]
  }
 ],
 "metadata": {
  "kernelspec": {
   "display_name": "phil (3.8.2)",
   "language": "python",
   "name": "phil"
  },
  "language_info": {
   "codemirror_mode": {
    "name": "ipython",
    "version": 3
   },
   "file_extension": ".py",
   "mimetype": "text/x-python",
   "name": "python",
   "nbconvert_exporter": "python",
   "pygments_lexer": "ipython3",
   "version": "3.8.8"
  }
 },
 "nbformat": 4,
 "nbformat_minor": 4
}
